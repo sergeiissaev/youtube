{
 "cells": [
  {
   "cell_type": "markdown",
   "metadata": {},
   "source": [
    "# MLBox Tutorial"
   ]
  },
  {
   "cell_type": "markdown",
   "metadata": {},
   "source": [
    "## Created by: Sergei Issaev"
   ]
  },
  {
   "cell_type": "code",
   "execution_count": 32,
   "metadata": {},
   "outputs": [],
   "source": [
    "from mlbox.preprocessing import *\n",
    "from mlbox.optimisation import *\n",
    "from mlbox.prediction import *"
   ]
  },
  {
   "cell_type": "code",
   "execution_count": 33,
   "metadata": {},
   "outputs": [],
   "source": [
    "paths = ['train.csv', 'test.csv'] #to modify\n",
    "target_name = \"target\" #to modify"
   ]
  },
  {
   "cell_type": "code",
   "execution_count": 34,
   "metadata": {},
   "outputs": [
    {
     "name": "stdout",
     "output_type": "stream",
     "text": [
      "\n",
      "reading csv : train.csv ...\n",
      "cleaning data ...\n",
      "CPU time: 0.6281528472900391 seconds\n",
      "\n",
      "reading csv : test.csv ...\n",
      "cleaning data ...\n",
      "CPU time: 0.7041749954223633 seconds\n",
      "\n",
      "> Number of common features : 12\n",
      "\n",
      "gathering and crunching for train and test datasets ...\n",
      "reindexing for train and test datasets ...\n",
      "dropping training duplicates ...\n",
      "dropping constant variables on training set ...\n",
      "\n",
      "> Number of categorical features: 10\n",
      "> Number of numerical features: 2\n",
      "> Number of training samples : 18314\n",
      "> Number of test samples : 15021\n",
      "\n",
      "> Top sparse features (% missing values on train set):\n",
      "company_type        27.5\n",
      "company_size        26.0\n",
      "gender              22.4\n",
      "major_discipline    15.5\n",
      "education_level      2.5\n",
      "dtype: float64\n",
      "\n",
      "> Task : classification\n",
      "0.0    15889\n",
      "1.0     2425\n",
      "Name: target, dtype: int64\n",
      "\n",
      "encoding target ...\n",
      "\n",
      "dumping files into directory : save\n"
     ]
    },
    {
     "name": "stderr",
     "output_type": "stream",
     "text": [
      "C:\\Users\\serge\\Anaconda3\\envs\\tfnew\\lib\\site-packages\\pandas\\core\\generic.py:2530: PerformanceWarning: \n",
      "your performance may suffer as PyTables will pickle object types that it cannot\n",
      "map directly to c-types [inferred_type->mixed,key->block1_values] [items->['city', 'company_size', 'company_type', 'education_level', 'enrolled_university', 'experience', 'gender', 'last_new_job', 'major_discipline', 'relevent_experience']]\n",
      "\n",
      "  pytables.to_hdf(path_or_buf, key, self, **kwargs)\n"
     ]
    },
    {
     "name": "stdout",
     "output_type": "stream",
     "text": [
      "train dumped\n",
      "test dumped\n",
      "CPU time: 0.536135196685791 seconds\n"
     ]
    }
   ],
   "source": [
    "data = Reader(sep=\",\", header = 0, to_hdf5 = True, to_path = 'save', verbose = True).train_test_split(Lpath = paths, target_name = target_name)  #reading"
   ]
  },
  {
   "cell_type": "code",
   "execution_count": 35,
   "metadata": {},
   "outputs": [
    {
     "data": {
      "text/plain": [
       "city                         0\n",
       "city_development_index       0\n",
       "company_size              4768\n",
       "company_type              5028\n",
       "education_level            457\n",
       "enrolled_university        342\n",
       "experience                  59\n",
       "gender                    4098\n",
       "last_new_job               367\n",
       "major_discipline          2835\n",
       "relevent_experience          0\n",
       "training_hours               0\n",
       "dtype: int64"
      ]
     },
     "execution_count": 35,
     "metadata": {},
     "output_type": "execute_result"
    }
   ],
   "source": [
    "data['train'].isna().sum()"
   ]
  },
  {
   "cell_type": "code",
   "execution_count": 36,
   "metadata": {},
   "outputs": [
    {
     "name": "stdout",
     "output_type": "stream",
     "text": [
      "\n",
      "computing drifts ...\n",
      "CPU time: 3.320826768875122 seconds\n",
      "\n",
      "> Top 10 drifts\n",
      "\n",
      "('major_discipline', 0.012730852551797511)\n",
      "('company_type', 0.011518042146925866)\n",
      "('city', 0.007947756553744023)\n",
      "('education_level', 0.00790611607079672)\n",
      "('experience', 0.007649773359261758)\n",
      "('training_hours', 0.005617221463938948)\n",
      "('gender', 0.005365756588933346)\n",
      "('last_new_job', 0.005029686781754084)\n",
      "('relevent_experience', 0.0027116096221917463)\n",
      "('enrolled_university', 0.00268451371984324)\n",
      "\n",
      "> Deleted variables : []\n",
      "> Drift coefficients dumped into directory : save\n"
     ]
    }
   ],
   "source": [
    "data = Drift_thresholder().fit_transform(data)  #deleting non-stable variables"
   ]
  },
  {
   "cell_type": "code",
   "execution_count": 37,
   "metadata": {},
   "outputs": [
    {
     "name": "stderr",
     "output_type": "stream",
     "text": [
      "C:\\Users\\serge\\Anaconda3\\envs\\tfnew\\lib\\site-packages\\mlbox\\optimisation\\optimiser.py:74: UserWarning: Optimiser will save all your fitted models into directory 'save/joblib'. Please clear it regularly.\n",
      "  +str(self.to_path)+\"/joblib'. Please clear it regularly.\")\n"
     ]
    },
    {
     "name": "stdout",
     "output_type": "stream",
     "text": [
      "No parameters set. Default configuration is tested\n",
      "\n",
      "##################################################### testing hyper-parameters... #####################################################\n",
      "\n",
      ">>> NA ENCODER :{'numerical_strategy': 'mean', 'categorical_strategy': '<NULL>'}\n",
      "\n",
      ">>> CA ENCODER :{'strategy': 'label_encoding'}\n",
      "\n",
      ">>> ESTIMATOR :{'strategy': 'LightGBM', 'boosting_type': 'gbdt', 'class_weight': None, 'colsample_bytree': 0.8, 'importance_type': 'split', 'learning_rate': 0.05, 'max_depth': -1, 'min_child_samples': 20, 'min_child_weight': 0.001, 'min_split_gain': 0.0, 'n_estimators': 500, 'n_jobs': -1, 'num_leaves': 31, 'objective': None, 'random_state': None, 'reg_alpha': 0.0, 'reg_lambda': 0.0, 'silent': True, 'subsample': 0.9, 'subsample_for_bin': 200000, 'subsample_freq': 0, 'nthread': -1, 'seed': 0}\n",
      "\n",
      "\n",
      "MEAN SCORE : neg_log_loss = -0.40767551778873967\n",
      "VARIANCE : 0.002736224296793155 (fold 1 = -0.4049392934919465, fold 2 = -0.4104117420855328)\n",
      "CPU time: 13.537402391433716 seconds\n",
      "\n"
     ]
    },
    {
     "data": {
      "text/plain": [
       "-0.40767551778873967"
      ]
     },
     "execution_count": 37,
     "metadata": {},
     "output_type": "execute_result"
    }
   ],
   "source": [
    "Optimiser().evaluate(None, data)"
   ]
  },
  {
   "cell_type": "code",
   "execution_count": 38,
   "metadata": {},
   "outputs": [
    {
     "name": "stderr",
     "output_type": "stream",
     "text": [
      "C:\\Users\\serge\\Anaconda3\\envs\\tfnew\\lib\\site-packages\\mlbox\\optimisation\\optimiser.py:74: UserWarning: Optimiser will save all your fitted models into directory 'save/joblib'. Please clear it regularly.\n",
      "  +str(self.to_path)+\"/joblib'. Please clear it regularly.\")\n"
     ]
    }
   ],
   "source": [
    "opt = Optimiser()"
   ]
  },
  {
   "cell_type": "code",
   "execution_count": 9,
   "metadata": {},
   "outputs": [
    {
     "name": "stdout",
     "output_type": "stream",
     "text": [
      "##################################################### testing hyper-parameters... #####################################################\n",
      ">>> NA ENCODER :{'numerical_strategy': 'mean', 'categorical_strategy': 'most_frequent'}                                \n",
      "                                                                                                                       \r"
     ]
    },
    {
     "name": "stderr",
     "output_type": "stream",
     "text": [
      "C:\\Users\\serge\\Anaconda3\\envs\\tfnew\\lib\\site-packages\\mlbox\\model\\classification\\classifier.py:92: UserWarning: Invalid parameter for classifier RandomForest. Parameter IGNORED. Check the list of available parameters with `classifier.get_params().keys()`\n",
      "  + \". Parameter IGNORED. Check the list of \"\n",
      "\n"
     ]
    },
    {
     "name": "stdout",
     "output_type": "stream",
     "text": [
      ">>> CA ENCODER :{'strategy': 'label_encoding'}\n",
      ">>> FEATURE SELECTOR :{'strategy': 'rf_feature_importance', 'threshold': 0.3}                                          \n",
      ">>> ESTIMATOR :{'strategy': 'RandomForest', 'bootstrap': True, 'class_weight': None, 'criterion': 'entropy', 'max_depth': 20, 'max_features': 0.5, 'max_samples': 0.75, 'min_samples_split': 8, 'min_weight_fraction_leaf': 0.05, 'n_estimators': 2560, 'random_state': 69, 'verbose': True, 'ccp_alpha': 0.0, 'max_leaf_nodes': None, 'min_impurity_decrease': 0.0, 'min_impurity_split': None, 'min_samples_leaf': 1, 'n_jobs': -1, 'oob_score': False, 'warm_start': False}\n",
      "  0%|                                                                           | 0/25 [00:00<?, ?trial/s, best loss=?]"
     ]
    },
    {
     "name": "stderr",
     "output_type": "stream",
     "text": [
      "[Parallel(n_jobs=-1)]: Using backend LokyBackend with 2 concurrent workers.\n",
      "\n",
      "[Parallel(n_jobs=-1)]: Done 300 tasks      | elapsed:    2.9s\n",
      "\n",
      "[Parallel(n_jobs=-1)]: Done 1500 tasks      | elapsed:   12.3s\n",
      "\n",
      "[Parallel(n_jobs=-1)]: Done 2560 out of 2560 | elapsed:   20.4s finished\n",
      "\n",
      "[Parallel(n_jobs=2)]: Using backend ThreadingBackend with 2 concurrent workers.\n",
      "\n",
      "[Parallel(n_jobs=2)]: Done  46 tasks      | elapsed:    0.0s\n",
      "\n",
      "[Parallel(n_jobs=2)]: Done 196 tasks      | elapsed:    0.2s\n",
      "\n",
      "[Parallel(n_jobs=2)]: Done 446 tasks      | elapsed:    0.7s\n",
      "\n",
      "[Parallel(n_jobs=2)]: Done 796 tasks      | elapsed:    1.3s\n",
      "\n",
      "[Parallel(n_jobs=2)]: Done 1246 tasks      | elapsed:    2.0s\n",
      "\n",
      "[Parallel(n_jobs=2)]: Done 1796 tasks      | elapsed:    2.8s\n",
      "\n",
      "[Parallel(n_jobs=2)]: Done 2446 tasks      | elapsed:    3.7s\n",
      "\n",
      "[Parallel(n_jobs=2)]: Done 2560 out of 2560 | elapsed:    3.9s finished\n",
      "\n",
      "[Parallel(n_jobs=-1)]: Using backend LokyBackend with 2 concurrent workers.\n",
      "\n",
      "[Parallel(n_jobs=-1)]: Done 304 tasks      | elapsed:    2.4s\n",
      "\n",
      "[Parallel(n_jobs=-1)]: Done 1504 tasks      | elapsed:   17.5s\n",
      "\n",
      "[Parallel(n_jobs=-1)]: Done 2557 out of 2560 | elapsed:   27.5s remaining:    0.0s\n",
      "\n",
      "[Parallel(n_jobs=-1)]: Done 2560 out of 2560 | elapsed:   27.6s finished\n",
      "\n",
      "[Parallel(n_jobs=2)]: Using backend ThreadingBackend with 2 concurrent workers.\n",
      "\n",
      "[Parallel(n_jobs=2)]: Done  46 tasks      | elapsed:    0.1s\n",
      "\n",
      "[Parallel(n_jobs=2)]: Done 196 tasks      | elapsed:    0.4s\n",
      "\n",
      "[Parallel(n_jobs=2)]: Done 446 tasks      | elapsed:    1.1s\n",
      "\n",
      "[Parallel(n_jobs=2)]: Done 796 tasks      | elapsed:    1.7s\n",
      "\n",
      "[Parallel(n_jobs=2)]: Done 1246 tasks      | elapsed:    2.5s\n",
      "\n",
      "[Parallel(n_jobs=2)]: Done 1796 tasks      | elapsed:    3.5s\n",
      "\n",
      "[Parallel(n_jobs=2)]: Done 2446 tasks      | elapsed:    4.6s\n",
      "\n"
     ]
    },
    {
     "name": "stdout",
     "output_type": "stream",
     "text": [
      "MEAN SCORE : neg_log_loss = -0.37912332450505876                                                                       \n",
      "VARIANCE : 0.000433747368419668 (fold 1 = -0.3786895771366391, fold 2 = -0.3795570718734784)                           \n",
      "CPU time: 75.20691347122192 seconds                                                                                    \n",
      "  4%|█▉                                              | 1/25 [01:15<30:09, 75.39s/trial, best loss: 0.37912332450505876]"
     ]
    },
    {
     "name": "stderr",
     "output_type": "stream",
     "text": [
      "[Parallel(n_jobs=2)]: Done 2560 out of 2560 | elapsed:    4.9s finished\n",
      "\n"
     ]
    },
    {
     "name": "stdout",
     "output_type": "stream",
     "text": [
      "##################################################### testing hyper-parameters... #####################################################\n",
      ">>> NA ENCODER :{'numerical_strategy': 'mean', 'categorical_strategy': 'most_frequent'}                                \n",
      "                                                                                                                       \r"
     ]
    },
    {
     "name": "stderr",
     "output_type": "stream",
     "text": [
      "C:\\Users\\serge\\Anaconda3\\envs\\tfnew\\lib\\site-packages\\mlbox\\model\\classification\\classifier.py:92: UserWarning: Invalid parameter for classifier RandomForest. Parameter IGNORED. Check the list of available parameters with `classifier.get_params().keys()`\n",
      "  + \". Parameter IGNORED. Check the list of \"\n",
      "\n"
     ]
    },
    {
     "name": "stdout",
     "output_type": "stream",
     "text": [
      ">>> CA ENCODER :{'strategy': 'entity_embedding'}\n",
      ">>> FEATURE SELECTOR :{'strategy': 'variance', 'threshold': 0.3}                                                       \n",
      ">>> ESTIMATOR :{'strategy': 'RandomForest', 'bootstrap': True, 'class_weight': 'balanced_subsample', 'criterion': 'gini', 'max_depth': 12, 'max_features': 0.3, 'max_samples': 1.0, 'min_samples_split': 2, 'min_weight_fraction_leaf': 0.3, 'n_estimators': 1280, 'random_state': 69, 'verbose': True, 'ccp_alpha': 0.0, 'max_leaf_nodes': None, 'min_impurity_decrease': 0.0, 'min_impurity_split': None, 'min_samples_leaf': 1, 'n_jobs': -1, 'oob_score': False, 'warm_start': False}\n",
      "  4%|█▉                                              | 1/25 [01:16<30:09, 75.39s/trial, best loss: 0.37912332450505876]"
     ]
    },
    {
     "name": "stderr",
     "output_type": "stream",
     "text": [
      "C:\\Users\\serge\\Anaconda3\\envs\\tfnew\\lib\\site-packages\\sklearn\\pipeline.py:315: UserWarning: Persisting input arguments took 1.46s to run.\n",
      "If this happens often in your code, it can cause performance problems \n",
      "(results will be correct in all cases). \n",
      "The reason for this is probably some large input arguments for a wrapped\n",
      " function (e.g. large strings).\n",
      "THIS IS A JOBLIB ISSUE. If you can, kindly provide the joblib's team with an\n",
      " example so that they can fix the problem.\n",
      "  **fit_params_steps[name])\n",
      "\n",
      "C:\\Users\\serge\\Anaconda3\\envs\\tfnew\\lib\\site-packages\\sklearn\\model_selection\\_validation.py:536: FitFailedWarning: Estimator fit failed. The score on this train-test partition for these parameters will be set to nan. Details: \n",
      "ValueError: `max_samples` must be in range (0, 1) but got value 1.0\n",
      "\n",
      "  FitFailedWarning)\n",
      "\n",
      "C:\\Users\\serge\\Anaconda3\\envs\\tfnew\\lib\\site-packages\\sklearn\\pipeline.py:315: UserWarning: Persisting input arguments took 1.12s to run.\n",
      "If this happens often in your code, it can cause performance problems \n",
      "(results will be correct in all cases). \n",
      "The reason for this is probably some large input arguments for a wrapped\n",
      " function (e.g. large strings).\n",
      "THIS IS A JOBLIB ISSUE. If you can, kindly provide the joblib's team with an\n",
      " example so that they can fix the problem.\n",
      "  **fit_params_steps[name])\n",
      "\n",
      "C:\\Users\\serge\\Anaconda3\\envs\\tfnew\\lib\\site-packages\\sklearn\\model_selection\\_validation.py:536: FitFailedWarning: Estimator fit failed. The score on this train-test partition for these parameters will be set to nan. Details: \n",
      "ValueError: `max_samples` must be in range (0, 1) but got value 1.0\n",
      "\n",
      "  FitFailedWarning)\n"
     ]
    },
    {
     "name": "stdout",
     "output_type": "stream",
     "text": [
      "MEAN SCORE : neg_log_loss = nan                                                                                        \n",
      "VARIANCE : nan (fold 1 = nan, fold 2 = nan)                                                                            \n",
      "CPU time: 80.29076886177063 seconds                                                                                    \n",
      "  8%|███▊                                            | 2/25 [02:35<29:29, 76.94s/trial, best loss: 0.37912332450505876]"
     ]
    },
    {
     "name": "stderr",
     "output_type": "stream",
     "text": [
      "\n"
     ]
    },
    {
     "name": "stdout",
     "output_type": "stream",
     "text": [
      "##################################################### testing hyper-parameters... #####################################################\n",
      ">>> NA ENCODER :{'numerical_strategy': 'mean', 'categorical_strategy': 'most_frequent'}                                \n",
      ">>> CA ENCODER :{'strategy': 'entity_embedding'}                                                                       \n",
      ">>> FEATURE SELECTOR :{'strategy': 'l1', 'threshold': 0.4}                                                             \n",
      ">>> ESTIMATOR :{'strategy': 'RandomForest', 'bootstrap': False, 'class_weight': 'balanced_subsample', 'criterion': 'gini', 'max_depth': 15, 'max_features': 0.1, 'max_samples': 1.0, 'min_samples_split': 12, 'min_weight_fraction_leaf': 0.1, 'n_estimators': 320, 'random_state': 69, 'verbose': True, 'ccp_alpha': 0.0, 'max_leaf_nodes': None, 'min_impurity_decrease': 0.0, 'min_impurity_split': None, 'min_samples_leaf': 1, 'n_jobs': -1, 'oob_score': False, 'warm_start': False}\n",
      "  8%|███▊                                            | 2/25 [02:36<29:29, 76.94s/trial, best loss: 0.37912332450505876]"
     ]
    },
    {
     "name": "stderr",
     "output_type": "stream",
     "text": [
      "C:\\Users\\serge\\Anaconda3\\envs\\tfnew\\lib\\site-packages\\mlbox\\model\\classification\\classifier.py:92: UserWarning: Invalid parameter for classifier RandomForest. Parameter IGNORED. Check the list of available parameters with `classifier.get_params().keys()`\n",
      "  + \". Parameter IGNORED. Check the list of \"\n",
      "\n",
      "C:\\Users\\serge\\Anaconda3\\envs\\tfnew\\lib\\site-packages\\sklearn\\model_selection\\_validation.py:536: FitFailedWarning: Estimator fit failed. The score on this train-test partition for these parameters will be set to nan. Details: \n",
      "ValueError: `max_samples` must be in range (0, 1) but got value 1.0\n",
      "\n",
      "  FitFailedWarning)\n",
      "\n"
     ]
    },
    {
     "name": "stdout",
     "output_type": "stream",
     "text": [
      "MEAN SCORE : neg_log_loss = nan                                                                                        \n",
      "VARIANCE : nan (fold 1 = nan, fold 2 = nan)                                                                            \n",
      "CPU time: 9.661429405212402 seconds                                                                                    \n",
      " 12%|█████▊                                          | 3/25 [02:45<20:49, 56.81s/trial, best loss: 0.37912332450505876]"
     ]
    },
    {
     "name": "stderr",
     "output_type": "stream",
     "text": [
      "C:\\Users\\serge\\Anaconda3\\envs\\tfnew\\lib\\site-packages\\sklearn\\model_selection\\_validation.py:536: FitFailedWarning: Estimator fit failed. The score on this train-test partition for these parameters will be set to nan. Details: \n",
      "ValueError: `max_samples` must be in range (0, 1) but got value 1.0\n",
      "\n",
      "  FitFailedWarning)\n",
      "\n"
     ]
    },
    {
     "name": "stdout",
     "output_type": "stream",
     "text": [
      "##################################################### testing hyper-parameters... #####################################################\n",
      ">>> NA ENCODER :{'numerical_strategy': 'most_frequent', 'categorical_strategy': '<NULL>'}                              \n",
      ">>> CA ENCODER :{'strategy': 'entity_embedding'}                                                                       \n",
      ">>> FEATURE SELECTOR :{'strategy': 'l1', 'threshold': 0.5}                                                             \n",
      ">>> ESTIMATOR :{'strategy': 'Bagging', 'bootstrap': False, 'bootstrap_features': False, 'max_features': 0.9, 'max_samples': 0.75, 'n_estimators': 20, 'random_state': 69, 'verbose': True, 'base_estimator': None, 'n_jobs': -1, 'oob_score': False, 'warm_start': False}\n",
      " 12%|█████▊                                          | 3/25 [02:46<20:49, 56.81s/trial, best loss: 0.37912332450505876]"
     ]
    },
    {
     "name": "stderr",
     "output_type": "stream",
     "text": [
      "C:\\Users\\serge\\Anaconda3\\envs\\tfnew\\lib\\site-packages\\mlbox\\model\\classification\\classifier.py:92: UserWarning: Invalid parameter for classifier Bagging. Parameter IGNORED. Check the list of available parameters with `classifier.get_params().keys()`\n",
      "  + \". Parameter IGNORED. Check the list of \"\n",
      "\n",
      "C:\\Users\\serge\\Anaconda3\\envs\\tfnew\\lib\\site-packages\\sklearn\\pipeline.py:315: UserWarning: Persisting input arguments took 1.14s to run.\n",
      "If this happens often in your code, it can cause performance problems \n",
      "(results will be correct in all cases). \n",
      "The reason for this is probably some large input arguments for a wrapped\n",
      " function (e.g. large strings).\n",
      "THIS IS A JOBLIB ISSUE. If you can, kindly provide the joblib's team with an\n",
      " example so that they can fix the problem.\n",
      "  **fit_params_steps[name])\n",
      "\n",
      "[Parallel(n_jobs=2)]: Using backend LokyBackend with 2 concurrent workers.\n",
      "\n",
      "[Parallel(n_jobs=2)]: Done   2 out of   2 | elapsed:    3.1s remaining:    0.0s\n",
      "\n",
      "[Parallel(n_jobs=2)]: Done   2 out of   2 | elapsed:    3.1s finished\n",
      "\n",
      "[Parallel(n_jobs=2)]: Using backend LokyBackend with 2 concurrent workers.\n",
      "\n",
      "[Parallel(n_jobs=2)]: Done   2 out of   2 | elapsed:    0.2s remaining:    0.0s\n",
      "\n",
      "[Parallel(n_jobs=2)]: Done   2 out of   2 | elapsed:    0.2s finished\n",
      "\n",
      "C:\\Users\\serge\\Anaconda3\\envs\\tfnew\\lib\\site-packages\\sklearn\\pipeline.py:315: UserWarning: Persisting input arguments took 1.90s to run.\n",
      "If this happens often in your code, it can cause performance problems \n",
      "(results will be correct in all cases). \n",
      "The reason for this is probably some large input arguments for a wrapped\n",
      " function (e.g. large strings).\n",
      "THIS IS A JOBLIB ISSUE. If you can, kindly provide the joblib's team with an\n",
      " example so that they can fix the problem.\n",
      "  **fit_params_steps[name])\n",
      "\n",
      "[Parallel(n_jobs=2)]: Using backend LokyBackend with 2 concurrent workers.\n",
      "\n",
      "[Parallel(n_jobs=2)]: Done   2 out of   2 | elapsed:    1.9s remaining:    0.0s\n",
      "\n",
      "[Parallel(n_jobs=2)]: Done   2 out of   2 | elapsed:    1.9s finished\n",
      "\n",
      "[Parallel(n_jobs=2)]: Using backend LokyBackend with 2 concurrent workers.\n",
      "\n"
     ]
    },
    {
     "name": "stdout",
     "output_type": "stream",
     "text": [
      "MEAN SCORE : neg_log_loss = -1.0187783120123524                                                                        \n",
      "VARIANCE : 0.04934719042175545 (fold 1 = -0.969431121590597, fold 2 = -1.0681255024341079)                             \n",
      "CPU time: 26.575666666030884 seconds                                                                                   \n",
      " 16%|███████▋                                        | 4/25 [03:12<16:43, 47.78s/trial, best loss: 0.37912332450505876]"
     ]
    },
    {
     "name": "stderr",
     "output_type": "stream",
     "text": [
      "[Parallel(n_jobs=2)]: Done   2 out of   2 | elapsed:    0.2s remaining:    0.0s\n",
      "\n",
      "[Parallel(n_jobs=2)]: Done   2 out of   2 | elapsed:    0.2s finished\n",
      "\n"
     ]
    },
    {
     "name": "stdout",
     "output_type": "stream",
     "text": [
      "##################################################### testing hyper-parameters... #####################################################\n",
      ">>> NA ENCODER :{'numerical_strategy': 0, 'categorical_strategy': 'most_frequent'}                                     \n",
      ">>> CA ENCODER :{'strategy': 'entity_embedding'}                                                                       \n",
      ">>> FEATURE SELECTOR :{'strategy': 'l1', 'threshold': 0.1}                                                             \n",
      " 16%|███████▋                                        | 4/25 [03:12<16:43, 47.78s/trial, best loss: 0.37912332450505876]"
     ]
    },
    {
     "name": "stderr",
     "output_type": "stream",
     "text": [
      "C:\\Users\\serge\\Anaconda3\\envs\\tfnew\\lib\\site-packages\\mlbox\\model\\classification\\classifier.py:92: UserWarning: Invalid parameter for classifier Bagging. Parameter IGNORED. Check the list of available parameters with `classifier.get_params().keys()`\n",
      "  + \". Parameter IGNORED. Check the list of \"\n",
      "\n"
     ]
    },
    {
     "name": "stdout",
     "output_type": "stream",
     "text": [
      ">>> ESTIMATOR :{'strategy': 'Bagging', 'bootstrap': False, 'bootstrap_features': True, 'max_features': 0.3, 'max_samples': 0.9, 'n_estimators': 20, 'random_state': 69, 'verbose': True, 'base_estimator': None, 'n_jobs': -1, 'oob_score': False, 'warm_start': False}\n",
      " 16%|███████▋                                        | 4/25 [03:12<16:43, 47.78s/trial, best loss: 0.37912332450505876]"
     ]
    },
    {
     "name": "stderr",
     "output_type": "stream",
     "text": [
      "C:\\Users\\serge\\Anaconda3\\envs\\tfnew\\lib\\site-packages\\sklearn\\pipeline.py:315: UserWarning: Persisting input arguments took 0.84s to run.\n",
      "If this happens often in your code, it can cause performance problems \n",
      "(results will be correct in all cases). \n",
      "The reason for this is probably some large input arguments for a wrapped\n",
      " function (e.g. large strings).\n",
      "THIS IS A JOBLIB ISSUE. If you can, kindly provide the joblib's team with an\n",
      " example so that they can fix the problem.\n",
      "  **fit_params_steps[name])\n",
      "\n",
      "[Parallel(n_jobs=2)]: Using backend LokyBackend with 2 concurrent workers.\n",
      "\n",
      "[Parallel(n_jobs=2)]: Done   2 out of   2 | elapsed:    0.5s remaining:    0.0s\n",
      "\n",
      "[Parallel(n_jobs=2)]: Done   2 out of   2 | elapsed:    0.5s finished\n",
      "\n",
      "[Parallel(n_jobs=2)]: Using backend LokyBackend with 2 concurrent workers.\n",
      "\n",
      "[Parallel(n_jobs=2)]: Done   2 out of   2 | elapsed:    0.1s remaining:    0.0s\n",
      "\n",
      "[Parallel(n_jobs=2)]: Done   2 out of   2 | elapsed:    0.1s finished\n",
      "\n",
      "C:\\Users\\serge\\Anaconda3\\envs\\tfnew\\lib\\site-packages\\sklearn\\pipeline.py:315: UserWarning: Persisting input arguments took 1.00s to run.\n",
      "If this happens often in your code, it can cause performance problems \n",
      "(results will be correct in all cases). \n",
      "The reason for this is probably some large input arguments for a wrapped\n",
      " function (e.g. large strings).\n",
      "THIS IS A JOBLIB ISSUE. If you can, kindly provide the joblib's team with an\n",
      " example so that they can fix the problem.\n",
      "  **fit_params_steps[name])\n",
      "\n",
      "[Parallel(n_jobs=2)]: Using backend LokyBackend with 2 concurrent workers.\n",
      "\n",
      "[Parallel(n_jobs=2)]: Done   2 out of   2 | elapsed:    0.9s remaining:    0.0s\n",
      "\n",
      "[Parallel(n_jobs=2)]: Done   2 out of   2 | elapsed:    0.9s finished\n",
      "\n",
      "[Parallel(n_jobs=2)]: Using backend LokyBackend with 2 concurrent workers.\n",
      "\n"
     ]
    },
    {
     "name": "stdout",
     "output_type": "stream",
     "text": [
      "MEAN SCORE : neg_log_loss = -0.43005523623217556                                                                       \n",
      "VARIANCE : 0.006467643193516032 (fold 1 = -0.43652287942569157, fold 2 = -0.4235875930386595)                          \n",
      "CPU time: 15.600842714309692 seconds                                                                                   \n",
      " 20%|█████████▌                                      | 5/25 [03:28<12:43, 38.19s/trial, best loss: 0.37912332450505876]"
     ]
    },
    {
     "name": "stderr",
     "output_type": "stream",
     "text": [
      "[Parallel(n_jobs=2)]: Done   2 out of   2 | elapsed:    0.2s remaining:    0.0s\n",
      "\n",
      "[Parallel(n_jobs=2)]: Done   2 out of   2 | elapsed:    0.2s finished\n",
      "\n"
     ]
    },
    {
     "name": "stdout",
     "output_type": "stream",
     "text": [
      "##################################################### testing hyper-parameters... #####################################################\n",
      ">>> NA ENCODER :{'numerical_strategy': 'most_frequent', 'categorical_strategy': 'most_frequent'}                       \n",
      ">>> CA ENCODER :{'strategy': 'random_projection'}                                                                      \n",
      ">>> FEATURE SELECTOR :{'strategy': 'variance', 'threshold': 0.4}                                                       \n",
      "                                                                                                                       "
     ]
    },
    {
     "name": "stderr",
     "output_type": "stream",
     "text": [
      "C:\\Users\\serge\\Anaconda3\\envs\\tfnew\\lib\\site-packages\\mlbox\\model\\classification\\classifier.py:92: UserWarning: Invalid parameter for classifier RandomForest. Parameter IGNORED. Check the list of available parameters with `classifier.get_params().keys()`\n",
      "  + \". Parameter IGNORED. Check the list of \"\n",
      "\n"
     ]
    },
    {
     "name": "stdout",
     "output_type": "stream",
     "text": [
      ">>> ESTIMATOR :{'strategy': 'RandomForest', 'bootstrap': True, 'class_weight': 'balanced_subsample', 'criterion': 'gini', 'max_depth': 1, 'max_features': 0.5, 'max_samples': 1.0, 'min_samples_split': 2, 'min_weight_fraction_leaf': 0.05, 'n_estimators': 1280, 'random_state': 69, 'verbose': True, 'ccp_alpha': 0.0, 'max_leaf_nodes': None, 'min_impurity_decrease': 0.0, 'min_impurity_split': None, 'min_samples_leaf': 1, 'n_jobs': -1, 'oob_score': False, 'warm_start': False}\n",
      " 20%|█████████▌                                      | 5/25 [03:28<12:43, 38.19s/trial, best loss: 0.37912332450505876]"
     ]
    },
    {
     "name": "stderr",
     "output_type": "stream",
     "text": [
      "C:\\Users\\serge\\Anaconda3\\envs\\tfnew\\lib\\site-packages\\sklearn\\model_selection\\_validation.py:536: FitFailedWarning: Estimator fit failed. The score on this train-test partition for these parameters will be set to nan. Details: \n",
      "ValueError: `max_samples` must be in range (0, 1) but got value 1.0\n",
      "\n",
      "  FitFailedWarning)\n",
      "\n"
     ]
    },
    {
     "name": "stdout",
     "output_type": "stream",
     "text": [
      "MEAN SCORE : neg_log_loss = nan                                                                                        \n",
      "VARIANCE : nan (fold 1 = nan, fold 2 = nan)                                                                            \n",
      "CPU time: 1.020254373550415 seconds                                                                                    \n",
      "                                                                                                                       "
     ]
    },
    {
     "name": "stderr",
     "output_type": "stream",
     "text": [
      "C:\\Users\\serge\\Anaconda3\\envs\\tfnew\\lib\\site-packages\\sklearn\\model_selection\\_validation.py:536: FitFailedWarning: Estimator fit failed. The score on this train-test partition for these parameters will be set to nan. Details: \n",
      "ValueError: `max_samples` must be in range (0, 1) but got value 1.0\n",
      "\n",
      "  FitFailedWarning)\n",
      "\n",
      "C:\\Users\\serge\\Anaconda3\\envs\\tfnew\\lib\\site-packages\\mlbox\\model\\classification\\classifier.py:92: UserWarning: Invalid parameter for classifier Bagging. Parameter IGNORED. Check the list of available parameters with `classifier.get_params().keys()`\n",
      "  + \". Parameter IGNORED. Check the list of \"\n",
      "\n"
     ]
    },
    {
     "name": "stdout",
     "output_type": "stream",
     "text": [
      "##################################################### testing hyper-parameters... #####################################################\n",
      ">>> NA ENCODER :{'numerical_strategy': 'median', 'categorical_strategy': '<NULL>'}                                     \n",
      ">>> CA ENCODER :{'strategy': 'random_projection'}                                                                      \n",
      ">>> FEATURE SELECTOR :{'strategy': 'rf_feature_importance', 'threshold': 0.4}                                          \n",
      ">>> ESTIMATOR :{'strategy': 'Bagging', 'bootstrap': True, 'bootstrap_features': True, 'max_features': 0.5, 'max_samples': 0.75, 'n_estimators': 20, 'random_state': 69, 'verbose': True, 'base_estimator': None, 'n_jobs': -1, 'oob_score': False, 'warm_start': False}\n",
      " 24%|███████████▌                                    | 6/25 [03:29<08:34, 27.09s/trial, best loss: 0.37912332450505876]"
     ]
    },
    {
     "name": "stderr",
     "output_type": "stream",
     "text": [
      "C:\\Users\\serge\\Anaconda3\\envs\\tfnew\\lib\\site-packages\\sklearn\\pipeline.py:315: UserWarning: Persisting input arguments took 0.74s to run.\n",
      "If this happens often in your code, it can cause performance problems \n",
      "(results will be correct in all cases). \n",
      "The reason for this is probably some large input arguments for a wrapped\n",
      " function (e.g. large strings).\n",
      "THIS IS A JOBLIB ISSUE. If you can, kindly provide the joblib's team with an\n",
      " example so that they can fix the problem.\n",
      "  **fit_params_steps[name])\n",
      "\n",
      "[Parallel(n_jobs=2)]: Using backend LokyBackend with 2 concurrent workers.\n",
      "\n",
      "[Parallel(n_jobs=2)]: Done   2 out of   2 | elapsed:    0.3s remaining:    0.0s\n",
      "\n",
      "[Parallel(n_jobs=2)]: Done   2 out of   2 | elapsed:    0.3s finished\n",
      "\n",
      "[Parallel(n_jobs=2)]: Using backend LokyBackend with 2 concurrent workers.\n",
      "\n",
      "[Parallel(n_jobs=2)]: Done   2 out of   2 | elapsed:    0.0s remaining:    0.0s\n",
      "\n",
      "[Parallel(n_jobs=2)]: Done   2 out of   2 | elapsed:    0.0s finished\n",
      "\n",
      "C:\\Users\\serge\\Anaconda3\\envs\\tfnew\\lib\\site-packages\\sklearn\\pipeline.py:315: UserWarning: Persisting input arguments took 0.69s to run.\n",
      "If this happens often in your code, it can cause performance problems \n",
      "(results will be correct in all cases). \n",
      "The reason for this is probably some large input arguments for a wrapped\n",
      " function (e.g. large strings).\n",
      "THIS IS A JOBLIB ISSUE. If you can, kindly provide the joblib's team with an\n",
      " example so that they can fix the problem.\n",
      "  **fit_params_steps[name])\n",
      "\n",
      "[Parallel(n_jobs=2)]: Using backend LokyBackend with 2 concurrent workers.\n",
      "\n",
      "[Parallel(n_jobs=2)]: Done   2 out of   2 | elapsed:    0.3s remaining:    0.0s\n",
      "\n",
      "[Parallel(n_jobs=2)]: Done   2 out of   2 | elapsed:    0.3s finished\n",
      "\n",
      "[Parallel(n_jobs=2)]: Using backend LokyBackend with 2 concurrent workers.\n"
     ]
    },
    {
     "name": "stdout",
     "output_type": "stream",
     "text": [
      "                                                                                                                       \r"
     ]
    },
    {
     "name": "stderr",
     "output_type": "stream",
     "text": [
      "\n",
      "[Parallel(n_jobs=2)]: Done   2 out of   2 | elapsed:    0.1s remaining:    0.0s\n",
      "\n",
      "[Parallel(n_jobs=2)]: Done   2 out of   2 | elapsed:    0.1s finished\n",
      "\n"
     ]
    },
    {
     "name": "stdout",
     "output_type": "stream",
     "text": [
      "MEAN SCORE : neg_log_loss = -0.47650565788700183\n",
      "VARIANCE : 0.012618218132245035 (fold 1 = -0.48912387601924684, fold 2 = -0.46388743975475677)                         \n",
      "CPU time: 11.01676893234253 seconds                                                                                    \n",
      "##################################################### testing hyper-parameters... #####################################################\n",
      ">>> NA ENCODER :{'numerical_strategy': 'mean', 'categorical_strategy': '<NULL>'}                                       \n",
      ">>> CA ENCODER :{'strategy': 'label_encoding'}                                                                         \n",
      ">>> FEATURE SELECTOR :{'strategy': 'rf_feature_importance', 'threshold': 0.2}                                          \n",
      ">>> ESTIMATOR :{'strategy': 'Linear', 'class_weight': 'balanced', 'random_state': 69, 'verbose': True, 'C': 1.0, 'dual': False, 'fit_intercept': True, 'intercept_scaling': 1, 'l1_ratio': None, 'max_iter': 100, 'multi_class': 'ovr', 'n_jobs': -1, 'penalty': 'l2', 'solver': 'lbfgs', 'tol': 0.0001, 'warm_start': False}\n"
     ]
    },
    {
     "name": "stderr",
     "output_type": "stream",
     "text": [
      "C:\\Users\\serge\\Anaconda3\\envs\\tfnew\\lib\\site-packages\\mlbox\\model\\classification\\classifier.py:92: UserWarning: Invalid parameter for classifier Linear. Parameter IGNORED. Check the list of available parameters with `classifier.get_params().keys()`\n",
      "  + \". Parameter IGNORED. Check the list of \"\n",
      "\n"
     ]
    },
    {
     "name": "stdout",
     "output_type": "stream",
     "text": [
      "\r",
      " 28%|█████████████▍                                  | 7/25 [03:40<06:41, 22.30s/trial, best loss: 0.37912332450505876]"
     ]
    },
    {
     "name": "stderr",
     "output_type": "stream",
     "text": [
      "C:\\Users\\serge\\Anaconda3\\envs\\tfnew\\lib\\site-packages\\sklearn\\pipeline.py:315: UserWarning: Persisting input arguments took 0.70s to run.\n",
      "If this happens often in your code, it can cause performance problems \n",
      "(results will be correct in all cases). \n",
      "The reason for this is probably some large input arguments for a wrapped\n",
      " function (e.g. large strings).\n",
      "THIS IS A JOBLIB ISSUE. If you can, kindly provide the joblib's team with an\n",
      " example so that they can fix the problem.\n",
      "  **fit_params_steps[name])\n",
      "\n",
      "[Parallel(n_jobs=-1)]: Using backend LokyBackend with 2 concurrent workers.\n",
      "\n",
      "[Parallel(n_jobs=-1)]: Done   1 out of   1 | elapsed:    0.3s finished\n",
      "\n",
      "C:\\Users\\serge\\Anaconda3\\envs\\tfnew\\lib\\site-packages\\sklearn\\pipeline.py:315: UserWarning: Persisting input arguments took 0.70s to run.\n",
      "If this happens often in your code, it can cause performance problems \n",
      "(results will be correct in all cases). \n",
      "The reason for this is probably some large input arguments for a wrapped\n",
      " function (e.g. large strings).\n",
      "THIS IS A JOBLIB ISSUE. If you can, kindly provide the joblib's team with an\n",
      " example so that they can fix the problem.\n",
      "  **fit_params_steps[name])\n",
      "\n",
      "[Parallel(n_jobs=-1)]: Using backend LokyBackend with 2 concurrent workers.\n",
      "\n"
     ]
    },
    {
     "name": "stdout",
     "output_type": "stream",
     "text": [
      "MEAN SCORE : neg_log_loss = -0.665628124352591                                                                         \n",
      "VARIANCE : 0.002275979662162586 (fold 1 = -0.6633521446904285, fold 2 = -0.6679041040147536)                           \n",
      "                                                                                                                       "
     ]
    },
    {
     "name": "stderr",
     "output_type": "stream",
     "text": [
      "[Parallel(n_jobs=-1)]: Done   1 out of   1 | elapsed:    0.3s finished\n",
      "\n"
     ]
    },
    {
     "name": "stdout",
     "output_type": "stream",
     "text": [
      "CPU time: 9.961446523666382 seconds\n",
      "##################################################### testing hyper-parameters... #####################################################\n",
      ">>> NA ENCODER :{'numerical_strategy': 'median', 'categorical_strategy': 'most_frequent'}                              \n",
      ">>> CA ENCODER :{'strategy': 'dummification'}                                                                          \n",
      ">>> FEATURE SELECTOR :{'strategy': 'rf_feature_importance', 'threshold': 0.1}                                          \n",
      ">>> ESTIMATOR :{'strategy': 'AdaBoost', 'learning_rate': 0.001, 'n_estimators': 20, 'random_state': 69, 'algorithm': 'SAMME.R', 'base_estimator': None}\n",
      " 32%|███████████████▎                                | 8/25 [03:50<05:16, 18.64s/trial, best loss: 0.37912332450505876]"
     ]
    },
    {
     "name": "stderr",
     "output_type": "stream",
     "text": [
      "C:\\Users\\serge\\Anaconda3\\envs\\tfnew\\lib\\site-packages\\mlbox\\model\\classification\\classifier.py:92: UserWarning: Invalid parameter for classifier AdaBoost. Parameter IGNORED. Check the list of available parameters with `classifier.get_params().keys()`\n",
      "  + \". Parameter IGNORED. Check the list of \"\n",
      "\n",
      "C:\\Users\\serge\\Anaconda3\\envs\\tfnew\\lib\\site-packages\\sklearn\\pipeline.py:315: UserWarning: Persisting input arguments took 0.74s to run.\n",
      "If this happens often in your code, it can cause performance problems \n",
      "(results will be correct in all cases). \n",
      "The reason for this is probably some large input arguments for a wrapped\n",
      " function (e.g. large strings).\n",
      "THIS IS A JOBLIB ISSUE. If you can, kindly provide the joblib's team with an\n",
      " example so that they can fix the problem.\n",
      "  **fit_params_steps[name])\n",
      "\n",
      "C:\\Users\\serge\\Anaconda3\\envs\\tfnew\\lib\\site-packages\\sklearn\\pipeline.py:315: UserWarning: Persisting input arguments took 0.69s to run.\n",
      "If this happens often in your code, it can cause performance problems \n",
      "(results will be correct in all cases). \n",
      "The reason for this is probably some large input arguments for a wrapped\n",
      " function (e.g. large strings).\n",
      "THIS IS A JOBLIB ISSUE. If you can, kindly provide the joblib's team with an\n",
      " example so that they can fix the problem.\n",
      "  **fit_params_steps[name])\n",
      "\n",
      "C:\\Users\\serge\\Anaconda3\\envs\\tfnew\\lib\\site-packages\\sklearn\\pipeline.py:315: UserWarning: Persisting input arguments took 0.73s to run.\n",
      "If this happens often in your code, it can cause performance problems \n",
      "(results will be correct in all cases). \n",
      "The reason for this is probably some large input arguments for a wrapped\n",
      " function (e.g. large strings).\n",
      "THIS IS A JOBLIB ISSUE. If you can, kindly provide the joblib's team with an\n",
      " example so that they can fix the problem.\n",
      "  **fit_params_steps[name])\n",
      "\n",
      "C:\\Users\\serge\\Anaconda3\\envs\\tfnew\\lib\\site-packages\\sklearn\\pipeline.py:315: UserWarning: Persisting input arguments took 0.72s to run.\n",
      "If this happens often in your code, it can cause performance problems \n",
      "(results will be correct in all cases). \n",
      "The reason for this is probably some large input arguments for a wrapped\n",
      " function (e.g. large strings).\n",
      "THIS IS A JOBLIB ISSUE. If you can, kindly provide the joblib's team with an\n",
      " example so that they can fix the problem.\n",
      "  **fit_params_steps[name])\n",
      "\n",
      "C:\\Users\\serge\\Anaconda3\\envs\\tfnew\\lib\\site-packages\\mlbox\\encoding\\categorical_encoder.py:462: FutureWarning: SparseDataFrame is deprecated and will be removed in a future version.\n",
      "Use a regular DataFrame whose columns are SparseArrays instead.\n",
      "\n",
      "See http://pandas.pydata.org/pandas-docs/stable/user_guide/sparse.html#migrating for more.\n",
      "\n",
      "  )[list(self.__Lnum)+sorted(missing_var+sub_var)])\n",
      "\n",
      "C:\\Users\\serge\\Anaconda3\\envs\\tfnew\\lib\\site-packages\\pandas\\core\\frame.py:3471: FutureWarning: SparseSeries is deprecated and will be removed in a future version.\n",
      "Use a Series with sparse values instead.\n",
      "\n",
      "    >>> series = pd.Series(pd.SparseArray(...))\n",
      "\n",
      "See http://pandas.pydata.org/pandas-docs/stable/user_guide/sparse.html#migrating for more.\n",
      "\n",
      "  return klass(values, index=self.index, name=items, fastpath=True)\n",
      "\n",
      "C:\\Users\\serge\\Anaconda3\\envs\\tfnew\\lib\\site-packages\\pandas\\core\\sparse\\frame.py:745: FutureWarning: SparseDataFrame is deprecated and will be removed in a future version.\n",
      "Use a regular DataFrame whose columns are SparseArrays instead.\n",
      "\n",
      "See http://pandas.pydata.org/pandas-docs/stable/user_guide/sparse.html#migrating for more.\n",
      "\n",
      "  default_fill_value=self._default_fill_value,\n",
      "\n"
     ]
    },
    {
     "name": "stdout",
     "output_type": "stream",
     "text": [
      "MEAN SCORE : neg_log_loss = -inf                                                                                       \n",
      "VARIANCE : nan (fold 1 = -inf, fold 2 = -inf)                                                                          \n",
      "CPU time: 27.985506534576416 seconds                                                                                   \n",
      " 32%|███████████████▎                                | 8/25 [04:18<05:16, 18.64s/trial, best loss: 0.37912332450505876]"
     ]
    },
    {
     "name": "stderr",
     "output_type": "stream",
     "text": [
      "C:\\Users\\serge\\Anaconda3\\envs\\tfnew\\lib\\site-packages\\mlbox\\optimisation\\optimiser.py:441: UserWarning: An error occurred while computing the cross validation mean score. Please check that the parameter values are correct and that your scoring function is valid and appropriate to the task.\n",
      "  warnings.warn(\"An error occurred while computing the cross \"\n",
      "\n",
      "C:\\Users\\serge\\Anaconda3\\envs\\tfnew\\lib\\site-packages\\numpy\\core\\_methods.py:193: RuntimeWarning: invalid value encountered in subtract\n",
      "  x = asanyarray(arr - arrmean)\n",
      "\n"
     ]
    },
    {
     "name": "stdout",
     "output_type": "stream",
     "text": [
      "##################################################### testing hyper-parameters... #####################################################\n",
      ">>> NA ENCODER :{'numerical_strategy': 0, 'categorical_strategy': 'most_frequent'}                                     \n",
      ">>> CA ENCODER :{'strategy': 'label_encoding'}                                                                         \n",
      ">>> FEATURE SELECTOR :{'strategy': 'rf_feature_importance', 'threshold': 0.1}                                          \n",
      ">>> ESTIMATOR :{'strategy': 'ExtraTrees', 'bootstrap': True, 'class_weight': 'balanced', 'criterion': 'gini', 'max_depth': 1, 'max_features': 0.9, 'max_samples': 0.5, 'min_samples_split': 2, 'min_weight_fraction_leaf': 0.0, 'n_estimators': 40, 'random_state': 69, 'verbose': True, 'ccp_alpha': 0.0, 'max_leaf_nodes': None, 'min_impurity_decrease': 0.0, 'min_impurity_split': None, 'min_samples_leaf': 1, 'n_jobs': -1, 'oob_score': False, 'warm_start': False}\n",
      " 36%|█████████████████▎                              | 9/25 [04:19<05:43, 21.49s/trial, best loss: 0.37912332450505876]"
     ]
    },
    {
     "name": "stderr",
     "output_type": "stream",
     "text": [
      "C:\\Users\\serge\\Anaconda3\\envs\\tfnew\\lib\\site-packages\\mlbox\\model\\classification\\classifier.py:92: UserWarning: Invalid parameter for classifier ExtraTrees. Parameter IGNORED. Check the list of available parameters with `classifier.get_params().keys()`\n",
      "  + \". Parameter IGNORED. Check the list of \"\n",
      "\n",
      "[Parallel(n_jobs=-1)]: Using backend LokyBackend with 2 concurrent workers.\n",
      "\n",
      "[Parallel(n_jobs=-1)]: Done  40 out of  40 | elapsed:    0.2s finished\n",
      "\n",
      "[Parallel(n_jobs=2)]: Using backend ThreadingBackend with 2 concurrent workers.\n",
      "\n",
      "[Parallel(n_jobs=2)]: Done  40 out of  40 | elapsed:    0.0s finished\n",
      "\n",
      "[Parallel(n_jobs=-1)]: Using backend LokyBackend with 2 concurrent workers.\n",
      "\n",
      "[Parallel(n_jobs=-1)]: Done  40 out of  40 | elapsed:    0.2s finished\n",
      "\n",
      "[Parallel(n_jobs=2)]: Using backend ThreadingBackend with 2 concurrent workers.\n",
      "\n",
      "[Parallel(n_jobs=2)]: Done  40 out of  40 | elapsed:    0.0s finished\n",
      "\n"
     ]
    },
    {
     "name": "stdout",
     "output_type": "stream",
     "text": [
      "MEAN SCORE : neg_log_loss = -0.6741686277886157                                                                        \n",
      "VARIANCE : 0.001322475261654521 (fold 1 = -0.6754911030502703, fold 2 = -0.6728461525269612)                           \n",
      "CPU time: 6.567481517791748 seconds                                                                                    \n",
      "##################################################### testing hyper-parameters... #####################################################\n",
      ">>> NA ENCODER :{'numerical_strategy': 'most_frequent', 'categorical_strategy': '<NULL>'}                              \n",
      ">>> CA ENCODER :{'strategy': 'label_encoding'}                                                                         \n",
      " 40%|██████████████████▊                            | 10/25 [04:25<04:15, 17.05s/trial, best loss: 0.37912332450505876]"
     ]
    },
    {
     "name": "stderr",
     "output_type": "stream",
     "text": [
      "C:\\Users\\serge\\Anaconda3\\envs\\tfnew\\lib\\site-packages\\mlbox\\model\\classification\\classifier.py:92: UserWarning: Invalid parameter for classifier LightGBM. Parameter IGNORED. Check the list of available parameters with `classifier.get_params().keys()`\n",
      "  + \". Parameter IGNORED. Check the list of \"\n",
      "\n"
     ]
    },
    {
     "name": "stdout",
     "output_type": "stream",
     "text": [
      ">>> FEATURE SELECTOR :{'strategy': 'l1', 'threshold': 0.5}                                                             \n",
      ">>> ESTIMATOR :{'strategy': 'LightGBM', 'boosting_type': 'goss', 'class_weight': 'balanced_subsample', 'learning_rate': 0.075, 'max_depth': 20, 'n_estimators': 2560, 'num_leaves': 40, 'random_state': 69, 'subsample': 0.9, 'colsample_bytree': 0.8, 'importance_type': 'split', 'min_child_samples': 20, 'min_child_weight': 0.001, 'min_split_gain': 0.0, 'n_jobs': -1, 'objective': None, 'reg_alpha': 0.0, 'reg_lambda': 0.0, 'silent': True, 'subsample_for_bin': 200000, 'subsample_freq': 0, 'nthread': -1, 'seed': 0}\n",
      " 40%|██████████████████▊                            | 10/25 [04:25<04:15, 17.05s/trial, best loss: 0.37912332450505876]"
     ]
    },
    {
     "name": "stderr",
     "output_type": "stream",
     "text": [
      "C:\\Users\\serge\\Anaconda3\\envs\\tfnew\\lib\\site-packages\\sklearn\\model_selection\\_validation.py:536: FitFailedWarning: Estimator fit failed. The score on this train-test partition for these parameters will be set to nan. Details: \n",
      "ValueError: The only valid preset for class_weight is \"balanced\". Given \"balanced_subsample\".\n",
      "\n",
      "  FitFailedWarning)\n",
      "\n"
     ]
    },
    {
     "name": "stdout",
     "output_type": "stream",
     "text": [
      "MEAN SCORE : neg_log_loss = nan                                                                                        \n",
      "VARIANCE : nan (fold 1 = nan, fold 2 = nan)                                                                            \n",
      "CPU time: 4.596156358718872 seconds                                                                                    \n",
      " 44%|████████████████████▋                          | 11/25 [04:30<03:06, 13.35s/trial, best loss: 0.37912332450505876]"
     ]
    },
    {
     "name": "stderr",
     "output_type": "stream",
     "text": [
      "C:\\Users\\serge\\Anaconda3\\envs\\tfnew\\lib\\site-packages\\sklearn\\model_selection\\_validation.py:536: FitFailedWarning: Estimator fit failed. The score on this train-test partition for these parameters will be set to nan. Details: \n",
      "ValueError: The only valid preset for class_weight is \"balanced\". Given \"balanced_subsample\".\n",
      "\n",
      "  FitFailedWarning)\n",
      "\n"
     ]
    },
    {
     "name": "stdout",
     "output_type": "stream",
     "text": [
      "##################################################### testing hyper-parameters... #####################################################\n",
      ">>> NA ENCODER :{'numerical_strategy': 'mean', 'categorical_strategy': 'most_frequent'}                                \n",
      ">>> CA ENCODER :{'strategy': 'dummification'}                                                                          \n",
      ">>> FEATURE SELECTOR :{'strategy': 'variance', 'threshold': 0.5}                                                       \n",
      ">>> ESTIMATOR :{'strategy': 'Linear', 'class_weight': 'balanced', 'random_state': 69, 'verbose': True, 'C': 1.0, 'dual': False, 'fit_intercept': True, 'intercept_scaling': 1, 'l1_ratio': None, 'max_iter': 100, 'multi_class': 'ovr', 'n_jobs': -1, 'penalty': 'l2', 'solver': 'lbfgs', 'tol': 0.0001, 'warm_start': False}\n",
      " 44%|████████████████████▋                          | 11/25 [04:30<03:06, 13.35s/trial, best loss: 0.37912332450505876]"
     ]
    },
    {
     "name": "stderr",
     "output_type": "stream",
     "text": [
      "C:\\Users\\serge\\Anaconda3\\envs\\tfnew\\lib\\site-packages\\mlbox\\model\\classification\\classifier.py:92: UserWarning: Invalid parameter for classifier Linear. Parameter IGNORED. Check the list of available parameters with `classifier.get_params().keys()`\n",
      "  + \". Parameter IGNORED. Check the list of \"\n",
      "\n",
      "[Parallel(n_jobs=-1)]: Using backend LokyBackend with 2 concurrent workers.\n",
      "\n",
      "[Parallel(n_jobs=-1)]: Done   1 out of   1 | elapsed:    4.2s finished\n",
      "\n",
      "[Parallel(n_jobs=-1)]: Using backend LokyBackend with 2 concurrent workers.\n",
      "\n",
      "[Parallel(n_jobs=-1)]: Done   1 out of   1 | elapsed:    4.7s finished\n",
      "\n"
     ]
    },
    {
     "name": "stdout",
     "output_type": "stream",
     "text": [
      "                                                                                                                       \r"
     ]
    },
    {
     "name": "stderr",
     "output_type": "stream",
     "text": [
      "C:\\Users\\serge\\Anaconda3\\envs\\tfnew\\lib\\site-packages\\mlbox\\encoding\\categorical_encoder.py:462: FutureWarning: SparseDataFrame is deprecated and will be removed in a future version.\n",
      "Use a regular DataFrame whose columns are SparseArrays instead.\n",
      "\n",
      "See http://pandas.pydata.org/pandas-docs/stable/user_guide/sparse.html#migrating for more.\n",
      "\n",
      "  )[list(self.__Lnum)+sorted(missing_var+sub_var)])\n",
      "\n",
      "C:\\Users\\serge\\Anaconda3\\envs\\tfnew\\lib\\site-packages\\pandas\\core\\frame.py:3471: FutureWarning: SparseSeries is deprecated and will be removed in a future version.\n",
      "Use a Series with sparse values instead.\n",
      "\n",
      "    >>> series = pd.Series(pd.SparseArray(...))\n",
      "\n",
      "See http://pandas.pydata.org/pandas-docs/stable/user_guide/sparse.html#migrating for more.\n",
      "\n",
      "  return klass(values, index=self.index, name=items, fastpath=True)\n",
      "\n",
      "C:\\Users\\serge\\Anaconda3\\envs\\tfnew\\lib\\site-packages\\pandas\\core\\sparse\\frame.py:745: FutureWarning: SparseDataFrame is deprecated and will be removed in a future version.\n",
      "Use a regular DataFrame whose columns are SparseArrays instead.\n",
      "\n",
      "See http://pandas.pydata.org/pandas-docs/stable/user_guide/sparse.html#migrating for more.\n",
      "\n",
      "  default_fill_value=self._default_fill_value,\n",
      "\n",
      "C:\\Users\\serge\\Anaconda3\\envs\\tfnew\\lib\\site-packages\\mlbox\\optimisation\\optimiser.py:441: UserWarning: An error occurred while computing the cross validation mean score. Please check that the parameter values are correct and that your scoring function is valid and appropriate to the task.\n",
      "  warnings.warn(\"An error occurred while computing the cross \"\n",
      "\n"
     ]
    },
    {
     "name": "stdout",
     "output_type": "stream",
     "text": [
      "MEAN SCORE : neg_log_loss = -inf\n",
      "VARIANCE : nan (fold 1 = -inf, fold 2 = -inf)                                                                          \n",
      "CPU time: 14.576349973678589 seconds                                                                                   \n",
      "##################################################### testing hyper-parameters... #####################################################\n",
      "                                                                                                                       "
     ]
    },
    {
     "name": "stderr",
     "output_type": "stream",
     "text": [
      "C:\\Users\\serge\\Anaconda3\\envs\\tfnew\\lib\\site-packages\\numpy\\core\\_methods.py:193: RuntimeWarning: invalid value encountered in subtract\n",
      "  x = asanyarray(arr - arrmean)\n",
      "\n",
      "C:\\Users\\serge\\Anaconda3\\envs\\tfnew\\lib\\site-packages\\mlbox\\model\\classification\\classifier.py:92: UserWarning: Invalid parameter for classifier Tree. Parameter IGNORED. Check the list of available parameters with `classifier.get_params().keys()`\n",
      "  + \". Parameter IGNORED. Check the list of \"\n",
      "\n"
     ]
    },
    {
     "name": "stdout",
     "output_type": "stream",
     "text": [
      ">>> NA ENCODER :{'numerical_strategy': 'mean', 'categorical_strategy': '<NULL>'}\n",
      ">>> CA ENCODER :{'strategy': 'dummification'}                                                                          \n",
      ">>> FEATURE SELECTOR :{'strategy': 'rf_feature_importance', 'threshold': 0.1}                                          \n",
      ">>> ESTIMATOR :{'strategy': 'Tree', 'class_weight': None, 'criterion': 'entropy', 'max_depth': 25, 'max_features': 0.9, 'min_samples_split': 3, 'min_weight_fraction_leaf': 0.5, 'random_state': 69, 'ccp_alpha': 0.0, 'max_leaf_nodes': None, 'min_impurity_decrease': 0.0, 'min_impurity_split': None, 'min_samples_leaf': 1, 'presort': False, 'splitter': 'best'}\n",
      " 48%|██████████████████████▌                        | 12/25 [04:45<02:58, 13.76s/trial, best loss: 0.37912332450505876]"
     ]
    },
    {
     "name": "stderr",
     "output_type": "stream",
     "text": [
      "C:\\Users\\serge\\Anaconda3\\envs\\tfnew\\lib\\site-packages\\sklearn\\pipeline.py:315: UserWarning: Persisting input arguments took 0.56s to run.\n",
      "If this happens often in your code, it can cause performance problems \n",
      "(results will be correct in all cases). \n",
      "The reason for this is probably some large input arguments for a wrapped\n",
      " function (e.g. large strings).\n",
      "THIS IS A JOBLIB ISSUE. If you can, kindly provide the joblib's team with an\n",
      " example so that they can fix the problem.\n",
      "  **fit_params_steps[name])\n",
      "\n",
      "C:\\Users\\serge\\Anaconda3\\envs\\tfnew\\lib\\site-packages\\sklearn\\tree\\_classes.py:319: FutureWarning: The parameter 'presort' is deprecated and has no effect. It will be removed in v0.24. You can suppress this warning by not passing any value to the 'presort' parameter.\n",
      "  FutureWarning)\n",
      "\n",
      "C:\\Users\\serge\\Anaconda3\\envs\\tfnew\\lib\\site-packages\\sklearn\\tree\\_classes.py:319: FutureWarning: The parameter 'presort' is deprecated and has no effect. It will be removed in v0.24. You can suppress this warning by not passing any value to the 'presort' parameter.\n",
      "  FutureWarning)\n",
      "\n",
      "C:\\Users\\serge\\Anaconda3\\envs\\tfnew\\lib\\site-packages\\mlbox\\encoding\\categorical_encoder.py:462: FutureWarning: SparseDataFrame is deprecated and will be removed in a future version.\n",
      "Use a regular DataFrame whose columns are SparseArrays instead.\n",
      "\n",
      "See http://pandas.pydata.org/pandas-docs/stable/user_guide/sparse.html#migrating for more.\n",
      "\n",
      "  )[list(self.__Lnum)+sorted(missing_var+sub_var)])\n",
      "\n",
      "C:\\Users\\serge\\Anaconda3\\envs\\tfnew\\lib\\site-packages\\pandas\\core\\frame.py:3471: FutureWarning: SparseSeries is deprecated and will be removed in a future version.\n",
      "Use a Series with sparse values instead.\n",
      "\n",
      "    >>> series = pd.Series(pd.SparseArray(...))\n",
      "\n",
      "See http://pandas.pydata.org/pandas-docs/stable/user_guide/sparse.html#migrating for more.\n",
      "\n",
      "  return klass(values, index=self.index, name=items, fastpath=True)\n",
      "\n",
      "C:\\Users\\serge\\Anaconda3\\envs\\tfnew\\lib\\site-packages\\pandas\\core\\sparse\\frame.py:745: FutureWarning: SparseDataFrame is deprecated and will be removed in a future version.\n",
      "Use a regular DataFrame whose columns are SparseArrays instead.\n",
      "\n",
      "See http://pandas.pydata.org/pandas-docs/stable/user_guide/sparse.html#migrating for more.\n",
      "\n",
      "  default_fill_value=self._default_fill_value,\n",
      "\n"
     ]
    },
    {
     "name": "stdout",
     "output_type": "stream",
     "text": [
      "MEAN SCORE : neg_log_loss = -inf                                                                                       \n",
      "VARIANCE : nan (fold 1 = -inf, fold 2 = -inf)                                                                          \n",
      "CPU time: 18.679676055908203 seconds                                                                                   \n",
      " 52%|████████████████████████▍                      | 13/25 [05:03<03:03, 15.27s/trial, best loss: 0.37912332450505876]"
     ]
    },
    {
     "name": "stderr",
     "output_type": "stream",
     "text": [
      "C:\\Users\\serge\\Anaconda3\\envs\\tfnew\\lib\\site-packages\\mlbox\\optimisation\\optimiser.py:441: UserWarning: An error occurred while computing the cross validation mean score. Please check that the parameter values are correct and that your scoring function is valid and appropriate to the task.\n",
      "  warnings.warn(\"An error occurred while computing the cross \"\n",
      "\n",
      "C:\\Users\\serge\\Anaconda3\\envs\\tfnew\\lib\\site-packages\\numpy\\core\\_methods.py:193: RuntimeWarning: invalid value encountered in subtract\n",
      "  x = asanyarray(arr - arrmean)\n",
      "\n",
      "C:\\Users\\serge\\Anaconda3\\envs\\tfnew\\lib\\site-packages\\mlbox\\model\\classification\\classifier.py:92: UserWarning: Invalid parameter for classifier Tree. Parameter IGNORED. Check the list of available parameters with `classifier.get_params().keys()`\n",
      "  + \". Parameter IGNORED. Check the list of \"\n",
      "\n"
     ]
    },
    {
     "name": "stdout",
     "output_type": "stream",
     "text": [
      "##################################################### testing hyper-parameters... #####################################################\n",
      ">>> NA ENCODER :{'numerical_strategy': 'mean', 'categorical_strategy': '<NULL>'}                                       \n",
      ">>> CA ENCODER :{'strategy': 'random_projection'}                                                                      \n",
      ">>> FEATURE SELECTOR :{'strategy': 'l1', 'threshold': 0.3}                                                             \n",
      ">>> ESTIMATOR :{'strategy': 'Tree', 'class_weight': 'balanced', 'criterion': 'entropy', 'max_depth': 12, 'max_features': 0.3, 'min_samples_split': 8, 'min_weight_fraction_leaf': 0.3, 'random_state': 69, 'ccp_alpha': 0.0, 'max_leaf_nodes': None, 'min_impurity_decrease': 0.0, 'min_impurity_split': None, 'min_samples_leaf': 1, 'presort': False, 'splitter': 'best'}\n",
      " 52%|████████████████████████▍                      | 13/25 [05:04<03:03, 15.27s/trial, best loss: 0.37912332450505876]"
     ]
    },
    {
     "name": "stderr",
     "output_type": "stream",
     "text": [
      "C:\\Users\\serge\\Anaconda3\\envs\\tfnew\\lib\\site-packages\\sklearn\\tree\\_classes.py:319: FutureWarning: The parameter 'presort' is deprecated and has no effect. It will be removed in v0.24. You can suppress this warning by not passing any value to the 'presort' parameter.\n",
      "  FutureWarning)\n",
      "\n",
      "C:\\Users\\serge\\Anaconda3\\envs\\tfnew\\lib\\site-packages\\sklearn\\tree\\_classes.py:319: FutureWarning: The parameter 'presort' is deprecated and has no effect. It will be removed in v0.24. You can suppress this warning by not passing any value to the 'presort' parameter.\n",
      "  FutureWarning)\n",
      "\n"
     ]
    },
    {
     "name": "stdout",
     "output_type": "stream",
     "text": [
      "MEAN SCORE : neg_log_loss = -0.6889479642728042                                                                        \n",
      "VARIANCE : 0.0011594297027251455 (fold 1 = -0.687788534570079, fold 2 = -0.6901073939755293)                           \n",
      "CPU time: 6.1303322315216064 seconds                                                                                   \n",
      "##################################################### testing hyper-parameters... #####################################################\n",
      ">>> NA ENCODER :{'numerical_strategy': 0, 'categorical_strategy': '<NULL>'}                                            \n",
      ">>> CA ENCODER :{'strategy': 'dummification'}                                                                          \n",
      "                                                                                                                       "
     ]
    },
    {
     "name": "stderr",
     "output_type": "stream",
     "text": [
      "C:\\Users\\serge\\Anaconda3\\envs\\tfnew\\lib\\site-packages\\mlbox\\model\\classification\\classifier.py:92: UserWarning: Invalid parameter for classifier RandomForest. Parameter IGNORED. Check the list of available parameters with `classifier.get_params().keys()`\n",
      "  + \". Parameter IGNORED. Check the list of \"\n",
      "\n"
     ]
    },
    {
     "name": "stdout",
     "output_type": "stream",
     "text": [
      ">>> FEATURE SELECTOR :{'strategy': 'rf_feature_importance', 'threshold': 0.5}\n",
      ">>> ESTIMATOR :{'strategy': 'RandomForest', 'bootstrap': False, 'class_weight': 'balanced', 'criterion': 'gini', 'max_depth': 20, 'max_features': 0.3, 'max_samples': 0.75, 'min_samples_split': 2, 'min_weight_fraction_leaf': 0.1, 'n_estimators': 640, 'random_state': 69, 'verbose': True, 'ccp_alpha': 0.0, 'max_leaf_nodes': None, 'min_impurity_decrease': 0.0, 'min_impurity_split': None, 'min_samples_leaf': 1, 'n_jobs': -1, 'oob_score': False, 'warm_start': False}\n",
      " 56%|██████████████████████████▎                    | 14/25 [05:10<02:18, 12.57s/trial, best loss: 0.37912332450505876]"
     ]
    },
    {
     "name": "stderr",
     "output_type": "stream",
     "text": [
      "C:\\Users\\serge\\Anaconda3\\envs\\tfnew\\lib\\site-packages\\sklearn\\pipeline.py:315: UserWarning: Persisting input arguments took 0.73s to run.\n",
      "If this happens often in your code, it can cause performance problems \n",
      "(results will be correct in all cases). \n",
      "The reason for this is probably some large input arguments for a wrapped\n",
      " function (e.g. large strings).\n",
      "THIS IS A JOBLIB ISSUE. If you can, kindly provide the joblib's team with an\n",
      " example so that they can fix the problem.\n",
      "  **fit_params_steps[name])\n",
      "\n",
      "[Parallel(n_jobs=-1)]: Using backend LokyBackend with 2 concurrent workers.\n",
      "\n",
      "[Parallel(n_jobs=-1)]: Done  88 tasks      | elapsed:    3.7s\n",
      "\n",
      "[Parallel(n_jobs=-1)]: Done 640 out of 640 | elapsed:   14.6s finished\n",
      "\n",
      "[Parallel(n_jobs=2)]: Using backend ThreadingBackend with 2 concurrent workers.\n",
      "\n",
      "[Parallel(n_jobs=2)]: Done  46 tasks      | elapsed:    0.0s\n",
      "\n",
      "[Parallel(n_jobs=2)]: Done 196 tasks      | elapsed:    0.4s\n",
      "\n",
      "[Parallel(n_jobs=2)]: Done 446 tasks      | elapsed:    1.3s\n",
      "\n",
      "[Parallel(n_jobs=2)]: Done 640 out of 640 | elapsed:    1.9s finished\n",
      "\n",
      "C:\\Users\\serge\\Anaconda3\\envs\\tfnew\\lib\\site-packages\\sklearn\\pipeline.py:315: UserWarning: Persisting input arguments took 3.17s to run.\n",
      "If this happens often in your code, it can cause performance problems \n",
      "(results will be correct in all cases). \n",
      "The reason for this is probably some large input arguments for a wrapped\n",
      " function (e.g. large strings).\n",
      "THIS IS A JOBLIB ISSUE. If you can, kindly provide the joblib's team with an\n",
      " example so that they can fix the problem.\n",
      "  **fit_params_steps[name])\n",
      "\n",
      "C:\\Users\\serge\\Anaconda3\\envs\\tfnew\\lib\\site-packages\\sklearn\\pipeline.py:315: UserWarning: Persisting input arguments took 0.67s to run.\n",
      "If this happens often in your code, it can cause performance problems \n",
      "(results will be correct in all cases). \n",
      "The reason for this is probably some large input arguments for a wrapped\n",
      " function (e.g. large strings).\n",
      "THIS IS A JOBLIB ISSUE. If you can, kindly provide the joblib's team with an\n",
      " example so that they can fix the problem.\n",
      "  **fit_params_steps[name])\n",
      "\n",
      "[Parallel(n_jobs=-1)]: Using backend LokyBackend with 2 concurrent workers.\n",
      "\n",
      "[Parallel(n_jobs=-1)]: Done 164 tasks      | elapsed:    3.0s\n",
      "\n",
      "[Parallel(n_jobs=-1)]: Done 640 out of 640 | elapsed:   10.7s finished\n",
      "\n",
      "C:\\Users\\serge\\Anaconda3\\envs\\tfnew\\lib\\site-packages\\mlbox\\encoding\\categorical_encoder.py:462: FutureWarning: SparseDataFrame is deprecated and will be removed in a future version.\n",
      "Use a regular DataFrame whose columns are SparseArrays instead.\n",
      "\n",
      "See http://pandas.pydata.org/pandas-docs/stable/user_guide/sparse.html#migrating for more.\n",
      "\n",
      "  )[list(self.__Lnum)+sorted(missing_var+sub_var)])\n",
      "\n",
      "C:\\Users\\serge\\Anaconda3\\envs\\tfnew\\lib\\site-packages\\pandas\\core\\frame.py:3471: FutureWarning: SparseSeries is deprecated and will be removed in a future version.\n",
      "Use a Series with sparse values instead.\n",
      "\n",
      "    >>> series = pd.Series(pd.SparseArray(...))\n",
      "\n",
      "See http://pandas.pydata.org/pandas-docs/stable/user_guide/sparse.html#migrating for more.\n",
      "\n",
      "  return klass(values, index=self.index, name=items, fastpath=True)\n",
      "\n",
      "C:\\Users\\serge\\Anaconda3\\envs\\tfnew\\lib\\site-packages\\pandas\\core\\sparse\\frame.py:745: FutureWarning: SparseDataFrame is deprecated and will be removed in a future version.\n",
      "Use a regular DataFrame whose columns are SparseArrays instead.\n",
      "\n",
      "See http://pandas.pydata.org/pandas-docs/stable/user_guide/sparse.html#migrating for more.\n",
      "\n",
      "  default_fill_value=self._default_fill_value,\n",
      "\n"
     ]
    },
    {
     "name": "stdout",
     "output_type": "stream",
     "text": [
      "MEAN SCORE : neg_log_loss = -inf                                                                                       \n",
      "                                                                                                                       \r"
     ]
    },
    {
     "name": "stderr",
     "output_type": "stream",
     "text": [
      "C:\\Users\\serge\\Anaconda3\\envs\\tfnew\\lib\\site-packages\\mlbox\\optimisation\\optimiser.py:441: UserWarning: An error occurred while computing the cross validation mean score. Please check that the parameter values are correct and that your scoring function is valid and appropriate to the task.\n",
      "  warnings.warn(\"An error occurred while computing the cross \"\n",
      "\n",
      "C:\\Users\\serge\\Anaconda3\\envs\\tfnew\\lib\\site-packages\\numpy\\core\\_methods.py:193: RuntimeWarning: invalid value encountered in subtract\n",
      "  x = asanyarray(arr - arrmean)\n",
      "\n"
     ]
    },
    {
     "name": "stdout",
     "output_type": "stream",
     "text": [
      "VARIANCE : nan (fold 1 = -inf, fold 2 = -inf)\n",
      "CPU time: 58.453548431396484 seconds                                                                                   \n",
      "##################################################### testing hyper-parameters... #####################################################\n",
      ">>> NA ENCODER :{'numerical_strategy': 'mean', 'categorical_strategy': 'most_frequent'}                                \n",
      ">>> CA ENCODER :{'strategy': 'label_encoding'}                                                                         \n",
      "                                                                                                                       \r"
     ]
    },
    {
     "name": "stderr",
     "output_type": "stream",
     "text": [
      "C:\\Users\\serge\\Anaconda3\\envs\\tfnew\\lib\\site-packages\\mlbox\\model\\classification\\classifier.py:92: UserWarning: Invalid parameter for classifier LightGBM. Parameter IGNORED. Check the list of available parameters with `classifier.get_params().keys()`\n",
      "  + \". Parameter IGNORED. Check the list of \"\n",
      "\n"
     ]
    },
    {
     "name": "stdout",
     "output_type": "stream",
     "text": [
      ">>> FEATURE SELECTOR :{'strategy': 'variance', 'threshold': 0.2}\n",
      ">>> ESTIMATOR :{'strategy': 'LightGBM', 'boosting_type': 'gbdt', 'class_weight': None, 'learning_rate': 0.01, 'max_depth': 20, 'n_estimators': 320, 'num_leaves': 80, 'random_state': 69, 'subsample': 0.9, 'colsample_bytree': 0.8, 'importance_type': 'split', 'min_child_samples': 20, 'min_child_weight': 0.001, 'min_split_gain': 0.0, 'n_jobs': -1, 'objective': None, 'reg_alpha': 0.0, 'reg_lambda': 0.0, 'silent': True, 'subsample_for_bin': 200000, 'subsample_freq': 0, 'nthread': -1, 'seed': 0}\n",
      "MEAN SCORE : neg_log_loss = -0.38560264789739207                                                                       \n",
      "VARIANCE : 0.0011288806127289497 (fold 1 = -0.3844737672846631, fold 2 = -0.386731528510121)                           \n",
      "CPU time: 10.131822109222412 seconds                                                                                   \n",
      "##################################################### testing hyper-parameters... #####################################################\n",
      ">>> NA ENCODER :{'numerical_strategy': 'mean', 'categorical_strategy': '<NULL>'}                                       \n",
      ">>> CA ENCODER :{'strategy': 'label_encoding'}                                                                         \n",
      ">>> FEATURE SELECTOR :{'strategy': 'variance', 'threshold': 0.1}                                                       \n",
      ">>> ESTIMATOR :{'strategy': 'AdaBoost', 'learning_rate': 0.001, 'n_estimators': 80, 'random_state': 69, 'algorithm': 'SAMME.R', 'base_estimator': None}\n",
      " 64%|██████████████████████████████                 | 16/25 [06:19<03:13, 21.55s/trial, best loss: 0.37912332450505876]"
     ]
    },
    {
     "name": "stderr",
     "output_type": "stream",
     "text": [
      "C:\\Users\\serge\\Anaconda3\\envs\\tfnew\\lib\\site-packages\\mlbox\\model\\classification\\classifier.py:92: UserWarning: Invalid parameter for classifier AdaBoost. Parameter IGNORED. Check the list of available parameters with `classifier.get_params().keys()`\n",
      "  + \". Parameter IGNORED. Check the list of \"\n",
      "\n"
     ]
    },
    {
     "name": "stdout",
     "output_type": "stream",
     "text": [
      "MEAN SCORE : neg_log_loss = -0.38651634764125187                                                                       \n",
      "VARIANCE : 0.0011060482176758757 (fold 1 = -0.38541029942357596, fold 2 = -0.3876223958589277)                         \n",
      "CPU time: 3.7109344005584717 seconds                                                                                   \n",
      "##################################################### testing hyper-parameters... #####################################################\n",
      ">>> NA ENCODER :{'numerical_strategy': 'most_frequent', 'categorical_strategy': 'most_frequent'}                       \n",
      ">>> CA ENCODER :{'strategy': 'dummification'}                                                                          \n",
      ">>> FEATURE SELECTOR :{'strategy': 'l1', 'threshold': 0.5}                                                             \n",
      ">>> ESTIMATOR :{'strategy': 'Linear', 'class_weight': None, 'random_state': 69, 'verbose': True, 'C': 1.0, 'dual': False, 'fit_intercept': True, 'intercept_scaling': 1, 'l1_ratio': None, 'max_iter': 100, 'multi_class': 'ovr', 'n_jobs': -1, 'penalty': 'l2', 'solver': 'lbfgs', 'tol': 0.0001, 'warm_start': False}\n",
      " 68%|███████████████████████████████▉               | 17/25 [06:23<02:09, 16.23s/trial, best loss: 0.37912332450505876]"
     ]
    },
    {
     "name": "stderr",
     "output_type": "stream",
     "text": [
      "C:\\Users\\serge\\Anaconda3\\envs\\tfnew\\lib\\site-packages\\mlbox\\model\\classification\\classifier.py:92: UserWarning: Invalid parameter for classifier Linear. Parameter IGNORED. Check the list of available parameters with `classifier.get_params().keys()`\n",
      "  + \". Parameter IGNORED. Check the list of \"\n",
      "\n",
      "C:\\Users\\serge\\Anaconda3\\envs\\tfnew\\lib\\site-packages\\sklearn\\pipeline.py:315: UserWarning: Persisting input arguments took 1.70s to run.\n",
      "If this happens often in your code, it can cause performance problems \n",
      "(results will be correct in all cases). \n",
      "The reason for this is probably some large input arguments for a wrapped\n",
      " function (e.g. large strings).\n",
      "THIS IS A JOBLIB ISSUE. If you can, kindly provide the joblib's team with an\n",
      " example so that they can fix the problem.\n",
      "  **fit_params_steps[name])\n",
      "\n",
      "[Parallel(n_jobs=-1)]: Using backend LokyBackend with 2 concurrent workers.\n",
      "\n",
      "[Parallel(n_jobs=-1)]: Done   1 out of   1 | elapsed:   11.4s finished\n",
      "\n",
      "C:\\Users\\serge\\Anaconda3\\envs\\tfnew\\lib\\site-packages\\sklearn\\pipeline.py:315: UserWarning: Persisting input arguments took 0.70s to run.\n",
      "If this happens often in your code, it can cause performance problems \n",
      "(results will be correct in all cases). \n",
      "The reason for this is probably some large input arguments for a wrapped\n",
      " function (e.g. large strings).\n",
      "THIS IS A JOBLIB ISSUE. If you can, kindly provide the joblib's team with an\n",
      " example so that they can fix the problem.\n",
      "  **fit_params_steps[name])\n",
      "\n",
      "[Parallel(n_jobs=-1)]: Using backend LokyBackend with 2 concurrent workers.\n",
      "\n",
      "[Parallel(n_jobs=-1)]: Done   1 out of   1 | elapsed:    9.4s finished\n",
      "\n",
      "C:\\Users\\serge\\Anaconda3\\envs\\tfnew\\lib\\site-packages\\mlbox\\encoding\\categorical_encoder.py:462: FutureWarning: SparseDataFrame is deprecated and will be removed in a future version.\n",
      "Use a regular DataFrame whose columns are SparseArrays instead.\n",
      "\n",
      "See http://pandas.pydata.org/pandas-docs/stable/user_guide/sparse.html#migrating for more.\n",
      "\n",
      "  )[list(self.__Lnum)+sorted(missing_var+sub_var)])\n",
      "\n",
      "C:\\Users\\serge\\Anaconda3\\envs\\tfnew\\lib\\site-packages\\pandas\\core\\generic.py:5997: FutureWarning: SparseDataFrame is deprecated and will be removed in a future version.\n",
      "Use a regular DataFrame whose columns are SparseArrays instead.\n",
      "\n",
      "See http://pandas.pydata.org/pandas-docs/stable/user_guide/sparse.html#migrating for more.\n",
      "\n",
      "  return self._constructor(data).__finalize__(self)\n",
      "\n"
     ]
    },
    {
     "name": "stdout",
     "output_type": "stream",
     "text": [
      "MEAN SCORE : neg_log_loss = -inf                                                                                       \n",
      "VARIANCE : nan (fold 1 = -inf, fold 2 = -inf)                                                                          \n",
      "CPU time: 46.81703567504883 seconds                                                                                    \n",
      "##################################################### testing hyper-parameters... #####################################################\n",
      ">>> NA ENCODER :{'numerical_strategy': 'median', 'categorical_strategy': '<NULL>'}                                     \n",
      ">>> CA ENCODER :{'strategy': 'label_encoding'}                                                                         \n",
      ">>> FEATURE SELECTOR :{'strategy': 'l1', 'threshold': 0.1}                                                             \n",
      ">>> ESTIMATOR :{'strategy': 'RandomForest', 'bootstrap': True, 'class_weight': 'balanced_subsample', 'criterion': 'entropy', 'max_depth': 25, 'max_features': 0.3, 'max_samples': 0.9, 'min_samples_split': 8, 'min_weight_fraction_leaf': 0.05, 'n_estimators': 40, 'random_state': 69, 'verbose': True, 'ccp_alpha': 0.0, 'max_leaf_nodes': None, 'min_impurity_decrease': 0.0, 'min_impurity_split': None, 'min_samples_leaf': 1, 'n_jobs': -1, 'oob_score': False, 'warm_start': False}\n",
      " 72%|█████████████████████████████████▊             | 18/25 [07:09<02:58, 25.50s/trial, best loss: 0.37912332450505876]"
     ]
    },
    {
     "name": "stderr",
     "output_type": "stream",
     "text": [
      "C:\\Users\\serge\\Anaconda3\\envs\\tfnew\\lib\\site-packages\\mlbox\\optimisation\\optimiser.py:441: UserWarning: An error occurred while computing the cross validation mean score. Please check that the parameter values are correct and that your scoring function is valid and appropriate to the task.\n",
      "  warnings.warn(\"An error occurred while computing the cross \"\n",
      "\n",
      "C:\\Users\\serge\\Anaconda3\\envs\\tfnew\\lib\\site-packages\\numpy\\core\\_methods.py:193: RuntimeWarning: invalid value encountered in subtract\n",
      "  x = asanyarray(arr - arrmean)\n",
      "\n",
      "C:\\Users\\serge\\Anaconda3\\envs\\tfnew\\lib\\site-packages\\mlbox\\model\\classification\\classifier.py:92: UserWarning: Invalid parameter for classifier RandomForest. Parameter IGNORED. Check the list of available parameters with `classifier.get_params().keys()`\n",
      "  + \". Parameter IGNORED. Check the list of \"\n",
      "\n",
      "[Parallel(n_jobs=-1)]: Using backend LokyBackend with 2 concurrent workers.\n",
      "\n",
      "[Parallel(n_jobs=-1)]: Done  40 out of  40 | elapsed:    0.4s finished\n",
      "\n",
      "[Parallel(n_jobs=2)]: Using backend ThreadingBackend with 2 concurrent workers.\n",
      "\n",
      "[Parallel(n_jobs=2)]: Done  40 out of  40 | elapsed:    0.0s finished\n",
      "\n",
      "[Parallel(n_jobs=-1)]: Using backend LokyBackend with 2 concurrent workers.\n",
      "\n",
      "[Parallel(n_jobs=-1)]: Done  40 out of  40 | elapsed:    0.4s finished\n",
      "\n",
      "[Parallel(n_jobs=2)]: Using backend ThreadingBackend with 2 concurrent workers.\n",
      "\n",
      "[Parallel(n_jobs=2)]: Done  40 out of  40 | elapsed:    0.0s finished\n"
     ]
    },
    {
     "name": "stdout",
     "output_type": "stream",
     "text": [
      "MEAN SCORE : neg_log_loss = -0.6494637667346028                                                                        \n",
      "VARIANCE : 0.0021115471105425665 (fold 1 = -0.6515753138451453, fold 2 = -0.6473522196240602)                          \n",
      "CPU time: 6.162477731704712 seconds                                                                                    \n",
      " 76%|███████████████████████████████████▋           | 19/25 [07:16<01:58, 19.72s/trial, best loss: 0.37912332450505876]"
     ]
    },
    {
     "name": "stderr",
     "output_type": "stream",
     "text": [
      "\n"
     ]
    },
    {
     "name": "stdout",
     "output_type": "stream",
     "text": [
      "##################################################### testing hyper-parameters... #####################################################\n",
      ">>> NA ENCODER :{'numerical_strategy': 'most_frequent', 'categorical_strategy': 'most_frequent'}                       \n",
      ">>> CA ENCODER :{'strategy': 'random_projection'}                                                                      \n",
      ">>> FEATURE SELECTOR :{'strategy': 'l1', 'threshold': 0.2}                                                             \n",
      ">>> ESTIMATOR :{'strategy': 'Linear', 'class_weight': None, 'random_state': 69, 'verbose': True, 'C': 1.0, 'dual': False, 'fit_intercept': True, 'intercept_scaling': 1, 'l1_ratio': None, 'max_iter': 100, 'multi_class': 'ovr', 'n_jobs': -1, 'penalty': 'l2', 'solver': 'lbfgs', 'tol': 0.0001, 'warm_start': False}\n",
      " 76%|███████████████████████████████████▋           | 19/25 [07:16<01:58, 19.72s/trial, best loss: 0.37912332450505876]"
     ]
    },
    {
     "name": "stderr",
     "output_type": "stream",
     "text": [
      "C:\\Users\\serge\\Anaconda3\\envs\\tfnew\\lib\\site-packages\\mlbox\\model\\classification\\classifier.py:92: UserWarning: Invalid parameter for classifier Linear. Parameter IGNORED. Check the list of available parameters with `classifier.get_params().keys()`\n",
      "  + \". Parameter IGNORED. Check the list of \"\n",
      "\n",
      "C:\\Users\\serge\\Anaconda3\\envs\\tfnew\\lib\\site-packages\\sklearn\\pipeline.py:315: UserWarning: Persisting input arguments took 0.84s to run.\n",
      "If this happens often in your code, it can cause performance problems \n",
      "(results will be correct in all cases). \n",
      "The reason for this is probably some large input arguments for a wrapped\n",
      " function (e.g. large strings).\n",
      "THIS IS A JOBLIB ISSUE. If you can, kindly provide the joblib's team with an\n",
      " example so that they can fix the problem.\n",
      "  **fit_params_steps[name])\n",
      "\n",
      "[Parallel(n_jobs=-1)]: Using backend LokyBackend with 2 concurrent workers.\n",
      "\n",
      "[Parallel(n_jobs=-1)]: Done   1 out of   1 | elapsed:    1.2s finished\n",
      "\n",
      "C:\\Users\\serge\\Anaconda3\\envs\\tfnew\\lib\\site-packages\\sklearn\\pipeline.py:315: UserWarning: Persisting input arguments took 0.85s to run.\n",
      "If this happens often in your code, it can cause performance problems \n",
      "(results will be correct in all cases). \n",
      "The reason for this is probably some large input arguments for a wrapped\n",
      " function (e.g. large strings).\n",
      "THIS IS A JOBLIB ISSUE. If you can, kindly provide the joblib's team with an\n",
      " example so that they can fix the problem.\n",
      "  **fit_params_steps[name])\n",
      "\n",
      "[Parallel(n_jobs=-1)]: Using backend LokyBackend with 2 concurrent workers.\n",
      "\n",
      "[Parallel(n_jobs=-1)]: Done   1 out of   1 | elapsed:    1.1s finished\n",
      "\n"
     ]
    },
    {
     "name": "stdout",
     "output_type": "stream",
     "text": [
      "MEAN SCORE : neg_log_loss = -0.38467076925177623                                                                       \n",
      "VARIANCE : 0.001109041839868985 (fold 1 = -0.38356172741190725, fold 2 = -0.3857798110916452)                          \n",
      "CPU time: 12.74704122543335 seconds                                                                                    \n",
      "##################################################### testing hyper-parameters... #####################################################\n",
      ">>> NA ENCODER :{'numerical_strategy': 0, 'categorical_strategy': 'most_frequent'}                                     \n",
      ">>> CA ENCODER :{'strategy': 'dummification'}                                                                          \n",
      ">>> FEATURE SELECTOR :{'strategy': 'variance', 'threshold': 0.3}                                                       \n",
      ">>> ESTIMATOR :{'strategy': 'LightGBM', 'boosting_type': 'goss', 'class_weight': 'balanced', 'learning_rate': 0.15, 'max_depth': 1, 'n_estimators': 20, 'num_leaves': 160, 'random_state': 69, 'subsample': 0.9, 'colsample_bytree': 0.8, 'importance_type': 'split', 'min_child_samples': 20, 'min_child_weight': 0.001, 'min_split_gain': 0.0, 'n_jobs': -1, 'objective': None, 'reg_alpha': 0.0, 'reg_lambda': 0.0, 'silent': True, 'subsample_for_bin': 200000, 'subsample_freq': 0, 'nthread': -1, 'seed': 0}\n",
      " 80%|█████████████████████████████████████▌         | 20/25 [07:29<01:28, 17.66s/trial, best loss: 0.37912332450505876]"
     ]
    },
    {
     "name": "stderr",
     "output_type": "stream",
     "text": [
      "C:\\Users\\serge\\Anaconda3\\envs\\tfnew\\lib\\site-packages\\mlbox\\model\\classification\\classifier.py:92: UserWarning: Invalid parameter for classifier LightGBM. Parameter IGNORED. Check the list of available parameters with `classifier.get_params().keys()`\n",
      "  + \". Parameter IGNORED. Check the list of \"\n",
      "\n",
      "C:\\Users\\serge\\Anaconda3\\envs\\tfnew\\lib\\site-packages\\mlbox\\encoding\\categorical_encoder.py:462: FutureWarning: SparseDataFrame is deprecated and will be removed in a future version.\n",
      "Use a regular DataFrame whose columns are SparseArrays instead.\n",
      "\n",
      "See http://pandas.pydata.org/pandas-docs/stable/user_guide/sparse.html#migrating for more.\n",
      "\n",
      "  )[list(self.__Lnum)+sorted(missing_var+sub_var)])\n",
      "\n",
      "C:\\Users\\serge\\Anaconda3\\envs\\tfnew\\lib\\site-packages\\pandas\\core\\frame.py:3471: FutureWarning: SparseSeries is deprecated and will be removed in a future version.\n",
      "Use a Series with sparse values instead.\n",
      "\n",
      "    >>> series = pd.Series(pd.SparseArray(...))\n",
      "\n",
      "See http://pandas.pydata.org/pandas-docs/stable/user_guide/sparse.html#migrating for more.\n",
      "\n",
      "  return klass(values, index=self.index, name=items, fastpath=True)\n",
      "\n",
      "C:\\Users\\serge\\Anaconda3\\envs\\tfnew\\lib\\site-packages\\pandas\\core\\sparse\\frame.py:745: FutureWarning: SparseDataFrame is deprecated and will be removed in a future version.\n",
      "Use a regular DataFrame whose columns are SparseArrays instead.\n",
      "\n",
      "See http://pandas.pydata.org/pandas-docs/stable/user_guide/sparse.html#migrating for more.\n",
      "\n",
      "  default_fill_value=self._default_fill_value,\n",
      "\n"
     ]
    },
    {
     "name": "stdout",
     "output_type": "stream",
     "text": [
      "MEAN SCORE : neg_log_loss = -0.668421612987514                                                                         \n",
      "VARIANCE : 0.0020516132642978135 (fold 1 = -0.6704732262518118, fold 2 = -0.6663699997232162)                          \n",
      "CPU time: 7.0787365436553955 seconds                                                                                   \n",
      "##################################################### testing hyper-parameters... #####################################################\n",
      ">>> NA ENCODER :{'numerical_strategy': 0, 'categorical_strategy': 'most_frequent'}                                     \n",
      ">>> CA ENCODER :{'strategy': 'dummification'}                                                                          \n",
      ">>> FEATURE SELECTOR :{'strategy': 'rf_feature_importance', 'threshold': 0.5}                                          \n",
      ">>> ESTIMATOR :{'strategy': 'Linear', 'class_weight': 'balanced', 'random_state': 69, 'verbose': True, 'C': 1.0, 'dual': False, 'fit_intercept': True, 'intercept_scaling': 1, 'l1_ratio': None, 'max_iter': 100, 'multi_class': 'ovr', 'n_jobs': -1, 'penalty': 'l2', 'solver': 'lbfgs', 'tol': 0.0001, 'warm_start': False}\n",
      " 84%|███████████████████████████████████████▍       | 21/25 [07:36<00:58, 14.51s/trial, best loss: 0.37912332450505876]"
     ]
    },
    {
     "name": "stderr",
     "output_type": "stream",
     "text": [
      "C:\\Users\\serge\\Anaconda3\\envs\\tfnew\\lib\\site-packages\\mlbox\\model\\classification\\classifier.py:92: UserWarning: Invalid parameter for classifier Linear. Parameter IGNORED. Check the list of available parameters with `classifier.get_params().keys()`\n",
      "  + \". Parameter IGNORED. Check the list of \"\n",
      "\n",
      "[Parallel(n_jobs=-1)]: Using backend LokyBackend with 2 concurrent workers.\n",
      "\n",
      "[Parallel(n_jobs=-1)]: Done   1 out of   1 | elapsed:    4.7s finished\n",
      "\n",
      "[Parallel(n_jobs=-1)]: Using backend LokyBackend with 2 concurrent workers.\n",
      "\n",
      "[Parallel(n_jobs=-1)]: Done   1 out of   1 | elapsed:    5.5s finished\n",
      "\n",
      "C:\\Users\\serge\\Anaconda3\\envs\\tfnew\\lib\\site-packages\\mlbox\\encoding\\categorical_encoder.py:462: FutureWarning: SparseDataFrame is deprecated and will be removed in a future version.\n",
      "Use a regular DataFrame whose columns are SparseArrays instead.\n",
      "\n",
      "See http://pandas.pydata.org/pandas-docs/stable/user_guide/sparse.html#migrating for more.\n",
      "\n",
      "  )[list(self.__Lnum)+sorted(missing_var+sub_var)])\n",
      "\n",
      "C:\\Users\\serge\\Anaconda3\\envs\\tfnew\\lib\\site-packages\\pandas\\core\\frame.py:3471: FutureWarning: SparseSeries is deprecated and will be removed in a future version.\n",
      "Use a Series with sparse values instead.\n",
      "\n",
      "    >>> series = pd.Series(pd.SparseArray(...))\n",
      "\n",
      "See http://pandas.pydata.org/pandas-docs/stable/user_guide/sparse.html#migrating for more.\n",
      "\n",
      "  return klass(values, index=self.index, name=items, fastpath=True)\n",
      "\n",
      "C:\\Users\\serge\\Anaconda3\\envs\\tfnew\\lib\\site-packages\\pandas\\core\\sparse\\frame.py:745: FutureWarning: SparseDataFrame is deprecated and will be removed in a future version.\n",
      "Use a regular DataFrame whose columns are SparseArrays instead.\n",
      "\n",
      "See http://pandas.pydata.org/pandas-docs/stable/user_guide/sparse.html#migrating for more.\n",
      "\n",
      "  default_fill_value=self._default_fill_value,\n",
      "\n",
      "C:\\Users\\serge\\Anaconda3\\envs\\tfnew\\lib\\site-packages\\mlbox\\optimisation\\optimiser.py:441: UserWarning: An error occurred while computing the cross validation mean score. Please check that the parameter values are correct and that your scoring function is valid and appropriate to the task.\n",
      "  warnings.warn(\"An error occurred while computing the cross \"\n"
     ]
    },
    {
     "name": "stdout",
     "output_type": "stream",
     "text": [
      "MEAN SCORE : neg_log_loss = -inf                                                                                       \n",
      "VARIANCE : nan (fold 1 = -inf, fold 2 = -inf)                                                                          \n",
      "CPU time: 24.064779043197632 seconds                                                                                   \n",
      "##################################################### testing hyper-parameters... #####################################################\n",
      ">>> NA ENCODER :{'numerical_strategy': 'median', 'categorical_strategy': '<NULL>'}                                     \n",
      "                                                                                                                       \r"
     ]
    },
    {
     "name": "stderr",
     "output_type": "stream",
     "text": [
      "\n",
      "C:\\Users\\serge\\Anaconda3\\envs\\tfnew\\lib\\site-packages\\numpy\\core\\_methods.py:193: RuntimeWarning: invalid value encountered in subtract\n",
      "  x = asanyarray(arr - arrmean)\n",
      "\n",
      "C:\\Users\\serge\\Anaconda3\\envs\\tfnew\\lib\\site-packages\\mlbox\\model\\classification\\classifier.py:92: UserWarning: Invalid parameter for classifier RandomForest. Parameter IGNORED. Check the list of available parameters with `classifier.get_params().keys()`\n",
      "  + \". Parameter IGNORED. Check the list of \"\n",
      "\n"
     ]
    },
    {
     "name": "stdout",
     "output_type": "stream",
     "text": [
      ">>> CA ENCODER :{'strategy': 'dummification'}\n",
      ">>> FEATURE SELECTOR :{'strategy': 'l1', 'threshold': 0.5}                                                             \n",
      ">>> ESTIMATOR :{'strategy': 'RandomForest', 'bootstrap': True, 'class_weight': 'balanced_subsample', 'criterion': 'entropy', 'max_depth': 25, 'max_features': 0.9, 'max_samples': 1.0, 'min_samples_split': 4, 'min_weight_fraction_leaf': 0.3, 'n_estimators': 1280, 'random_state': 69, 'verbose': True, 'ccp_alpha': 0.0, 'max_leaf_nodes': None, 'min_impurity_decrease': 0.0, 'min_impurity_split': None, 'min_samples_leaf': 1, 'n_jobs': -1, 'oob_score': False, 'warm_start': False}\n",
      " 88%|█████████████████████████████████████████▎     | 22/25 [08:00<00:52, 17.41s/trial, best loss: 0.37912332450505876]"
     ]
    },
    {
     "name": "stderr",
     "output_type": "stream",
     "text": [
      "C:\\Users\\serge\\Anaconda3\\envs\\tfnew\\lib\\site-packages\\sklearn\\pipeline.py:315: UserWarning: Persisting input arguments took 0.89s to run.\n",
      "If this happens often in your code, it can cause performance problems \n",
      "(results will be correct in all cases). \n",
      "The reason for this is probably some large input arguments for a wrapped\n",
      " function (e.g. large strings).\n",
      "THIS IS A JOBLIB ISSUE. If you can, kindly provide the joblib's team with an\n",
      " example so that they can fix the problem.\n",
      "  **fit_params_steps[name])\n",
      "\n",
      "C:\\Users\\serge\\Anaconda3\\envs\\tfnew\\lib\\site-packages\\sklearn\\model_selection\\_validation.py:536: FitFailedWarning: Estimator fit failed. The score on this train-test partition for these parameters will be set to nan. Details: \n",
      "ValueError: `max_samples` must be in range (0, 1) but got value 1.0\n",
      "\n",
      "  FitFailedWarning)\n",
      "\n"
     ]
    },
    {
     "name": "stdout",
     "output_type": "stream",
     "text": [
      "MEAN SCORE : neg_log_loss = nan                                                                                        \n",
      "VARIANCE : nan (fold 1 = nan, fold 2 = nan)                                                                            \n",
      "                                                                                                                       \r"
     ]
    },
    {
     "name": "stderr",
     "output_type": "stream",
     "text": [
      "C:\\Users\\serge\\Anaconda3\\envs\\tfnew\\lib\\site-packages\\sklearn\\model_selection\\_validation.py:536: FitFailedWarning: Estimator fit failed. The score on this train-test partition for these parameters will be set to nan. Details: \n",
      "ValueError: `max_samples` must be in range (0, 1) but got value 1.0\n",
      "\n",
      "  FitFailedWarning)\n",
      "\n"
     ]
    },
    {
     "name": "stdout",
     "output_type": "stream",
     "text": [
      "CPU time: 27.17669367790222 seconds\n",
      "##################################################### testing hyper-parameters... #####################################################\n",
      ">>> NA ENCODER :{'numerical_strategy': 'mean', 'categorical_strategy': '<NULL>'}                                       \n",
      " 92%|███████████████████████████████████████████▏   | 23/25 [08:27<00:40, 20.40s/trial, best loss: 0.37912332450505876]"
     ]
    },
    {
     "name": "stderr",
     "output_type": "stream",
     "text": [
      "C:\\Users\\serge\\Anaconda3\\envs\\tfnew\\lib\\site-packages\\mlbox\\model\\classification\\classifier.py:92: UserWarning: Invalid parameter for classifier Linear. Parameter IGNORED. Check the list of available parameters with `classifier.get_params().keys()`\n",
      "  + \". Parameter IGNORED. Check the list of \"\n",
      "\n"
     ]
    },
    {
     "name": "stdout",
     "output_type": "stream",
     "text": [
      ">>> CA ENCODER :{'strategy': 'random_projection'}                                                                      \n",
      ">>> FEATURE SELECTOR :{'strategy': 'variance', 'threshold': 0.2}                                                       \n",
      ">>> ESTIMATOR :{'strategy': 'Linear', 'class_weight': 'balanced', 'random_state': 69, 'verbose': True, 'C': 1.0, 'dual': False, 'fit_intercept': True, 'intercept_scaling': 1, 'l1_ratio': None, 'max_iter': 100, 'multi_class': 'ovr', 'n_jobs': -1, 'penalty': 'l2', 'solver': 'lbfgs', 'tol': 0.0001, 'warm_start': False}\n",
      " 92%|███████████████████████████████████████████▏   | 23/25 [08:28<00:40, 20.40s/trial, best loss: 0.37912332450505876]"
     ]
    },
    {
     "name": "stderr",
     "output_type": "stream",
     "text": [
      "[Parallel(n_jobs=-1)]: Using backend LokyBackend with 2 concurrent workers.\n",
      "\n",
      "[Parallel(n_jobs=-1)]: Done   1 out of   1 | elapsed:    1.2s finished\n",
      "\n",
      "[Parallel(n_jobs=-1)]: Using backend LokyBackend with 2 concurrent workers.\n",
      "\n",
      "[Parallel(n_jobs=-1)]: Done   1 out of   1 | elapsed:    1.2s finished\n",
      "\n"
     ]
    },
    {
     "name": "stdout",
     "output_type": "stream",
     "text": [
      "MEAN SCORE : neg_log_loss = -0.6699184984412908                                                                        \n",
      "VARIANCE : 0.00215737542467187 (fold 1 = -0.6720758738659627, fold 2 = -0.6677611230166189)                            \n",
      "CPU time: 4.318085193634033 seconds                                                                                    \n",
      "##################################################### testing hyper-parameters... #####################################################\n",
      ">>> NA ENCODER :{'numerical_strategy': 'mean', 'categorical_strategy': 'most_frequent'}                                \n",
      ">>> CA ENCODER :{'strategy': 'dummification'}                                                                          \n",
      ">>> FEATURE SELECTOR :{'strategy': 'l1', 'threshold': 0.4}                                                             \n",
      "                                                                                                                       "
     ]
    },
    {
     "name": "stderr",
     "output_type": "stream",
     "text": [
      "C:\\Users\\serge\\Anaconda3\\envs\\tfnew\\lib\\site-packages\\mlbox\\model\\classification\\classifier.py:92: UserWarning: Invalid parameter for classifier LightGBM. Parameter IGNORED. Check the list of available parameters with `classifier.get_params().keys()`\n",
      "  + \". Parameter IGNORED. Check the list of \"\n",
      "\n"
     ]
    },
    {
     "name": "stdout",
     "output_type": "stream",
     "text": [
      ">>> ESTIMATOR :{'strategy': 'LightGBM', 'boosting_type': 'dart', 'class_weight': 'balanced', 'learning_rate': 0.25, 'max_depth': 10, 'n_estimators': 160, 'num_leaves': 80, 'random_state': 69, 'subsample': 0.6, 'colsample_bytree': 0.8, 'importance_type': 'split', 'min_child_samples': 20, 'min_child_weight': 0.001, 'min_split_gain': 0.0, 'n_jobs': -1, 'objective': None, 'reg_alpha': 0.0, 'reg_lambda': 0.0, 'silent': True, 'subsample_for_bin': 200000, 'subsample_freq': 0, 'nthread': -1, 'seed': 0}\n",
      "MEAN SCORE : neg_log_loss = -inf                                                                                       \n",
      "VARIANCE : nan (fold 1 = -inf, fold 2 = -inf)                                                                          \n",
      "CPU time: 9.456376314163208 seconds                                                                                    \n",
      "100%|███████████████████████████████████████████████| 25/25 [08:41<00:00, 20.87s/trial, best loss: 0.37912332450505876]\n",
      "\n",
      "\n",
      "~~~~~~~~~~~~~~~~~~~~~~~~~~~~~~~~~~~~~~~~~~~~~~~~~~~~~~~~~~~~~~~~~~~~~~~~~~~~~~~~~~~~~~~~~~~~~~~~~~~~~~~~~~~~~~~~~~~~~~~~~~~~~~~~~~~~~~~~~\n",
      "~~~~~~~~~~~~~~~~~~~~~~~~~~~~~~~~~~~~~~~~~~~~~~~~~~~~~~~~~ BEST HYPER-PARAMETERS ~~~~~~~~~~~~~~~~~~~~~~~~~~~~~~~~~~~~~~~~~~~~~~~~~~~~~~~~~\n",
      "~~~~~~~~~~~~~~~~~~~~~~~~~~~~~~~~~~~~~~~~~~~~~~~~~~~~~~~~~~~~~~~~~~~~~~~~~~~~~~~~~~~~~~~~~~~~~~~~~~~~~~~~~~~~~~~~~~~~~~~~~~~~~~~~~~~~~~~~~\n",
      "\n",
      "{'ce__strategy': 'label_encoding', 'est__boosting_type': 'dart', 'est__bootstrap': True, 'est__bootstrap_features': True, 'est__class_weight': None, 'est__criterion': 'entropy', 'est__learning_rate': 0.05, 'est__max_bin': 1, 'est__max_depth': 20, 'est__max_features': 0.5, 'est__max_samples': 0.75, 'est__min_data_in_leaf': 1, 'est__min_samples_split': 8, 'est__min_weight_fraction_leaf': 0.05, 'est__n_estimators': 2560, 'est__num_iterations': 50, 'est__num_leaves': 40, 'est__random_state': 69, 'est__strategy': 'RandomForest', 'est__subsample': 0.9, 'est__verbose': True, 'fs__strategy': 'rf_feature_importance', 'fs__threshold': 0.3, 'ne__categorical_strategy': 'most_frequent', 'ne__numerical_strategy': 'mean'}\n"
     ]
    },
    {
     "name": "stderr",
     "output_type": "stream",
     "text": [
      "C:\\Users\\serge\\Anaconda3\\envs\\tfnew\\lib\\site-packages\\mlbox\\optimisation\\optimiser.py:441: UserWarning: An error occurred while computing the cross validation mean score. Please check that the parameter values are correct and that your scoring function is valid and appropriate to the task.\n",
      "  warnings.warn(\"An error occurred while computing the cross \"\n",
      "\n",
      "C:\\Users\\serge\\Anaconda3\\envs\\tfnew\\lib\\site-packages\\numpy\\core\\_methods.py:193: RuntimeWarning: invalid value encountered in subtract\n",
      "  x = asanyarray(arr - arrmean)\n",
      "\n"
     ]
    }
   ],
   "source": [
    "space = {\n",
    "\n",
    "        'ne__numerical_strategy' : {\"space\" : [0, 'mean', 'median', 'most_frequent']},\n",
    "        'ne__categorical_strategy' : {\"space\" : ['<NULL>', 'most_frequent']},\n",
    "\n",
    "        'ce__strategy' : {\"space\" : [\"label_encoding\", \"dummification\", \"random_projection\", \"entity_embedding\"]},\n",
    "\n",
    "        'fs__strategy' : {\"space\" : [\"variance\", \"rf_feature_importance\", 'l1']},\n",
    "        'fs__threshold': {\"search\" : \"choice\", \"space\" : [0.1, 0.2, 0.3, 0.4, 0.5]},\n",
    "\n",
    "        'est__strategy' : {\"space\" : [\"LightGBM\", \"RandomForest\", 'ExtraTrees', 'Tree', 'Bagging', 'AdaBoost', 'Linear']},\n",
    "        'est__max_depth' : {\"search\" : \"choice\", \"space\" : [1, 2, 4, 8,6, 10, 12, 15, 20, 25, 35, 50]},\n",
    "        'est__n_estimators' : {\"search\" : \"choice\", \"space\" : [20, 40, 80, 160, 320, 640, 1280, 2560]},\n",
    "        'est__bootstrap' : {\"space\" : [True, False]},\n",
    "        'est__max_features' : {\"search\" : \"choice\", \"space\" : [0.1, 0.3, 0.5, 0.9, 1.0]},\n",
    "        'est__max_samples' : {\"search\" : \"choice\", \"space\" : [0.5, 0.75, 0.9, 1.0]},\n",
    "        'est__bootstrap_features' : {\"space\" : [True, False]},\n",
    "        'est__random_state' : {\"search\" : \"choice\", \"space\" : [69]},\n",
    "        'est__verbose' : {\"space\" : [True]},\n",
    "        'est__num_leaves' : {\"search\" : \"choice\", \"space\" : [10, 20, 40, 80, 160]},\n",
    "        'est__min_data_in_leaf' : {\"search\" : \"choice\", \"space\" : [1, 4, 10, 50, 100, 1000]},\n",
    "        'est__boosting_type' : { \"space\" : ['gbdt', 'rf', 'goss', 'dart']},\n",
    "        'est__criterion' : { \"space\" : ['gini', 'entropy']},\n",
    "        'est__max_bin' : { \"search\" : \"choice\", \"space\" : [1, 5, 10, 20, 50]},\n",
    "        'est__num_iterations' : {\"search\" : \"choice\", \"space\" : [20, 50, 100, 150, 200, 400, 800]},\n",
    "        'est__learning_rate' : {\"search\" : \"choice\", \"space\" : [0.001, 0.010, 0.025, 0.050, 0.075, 0.100, 0.150, 0.250]},\n",
    "        'est__min_weight_fraction_leaf' : {\"search\" : \"choice\", \"space\" : [0.0, 0.05,0.1, 0.3, 0.5]},\n",
    "        'est__class_weight' : { \"search\" : \"choice\", \"space\" : [None, 'balanced', 'balanced_subsample']},\n",
    "        'est__min_samples_split' : {\"search\" : \"choice\", \"space\" : [2, 3, 4, 8, 12]},\n",
    "        'est__subsample' : {\"search\" : \"choice\", \"space\" : [0.6,0.9]}\n",
    "\n",
    "        }\n",
    "\n",
    "best = opt.optimise(space, data, max_evals = 25)"
   ]
  },
  {
   "cell_type": "code",
   "execution_count": 39,
   "metadata": {
    "scrolled": true
   },
   "outputs": [
    {
     "name": "stdout",
     "output_type": "stream",
     "text": [
      "##################################################### testing hyper-parameters... #####################################################\n",
      ">>> NA ENCODER :{'numerical_strategy': 'most_frequent', 'categorical_strategy': 'most_frequent'}                       \n",
      ">>> CA ENCODER :{'strategy': 'dummification'}                                                                          \n",
      ">>> FEATURE SELECTOR :{'strategy': 'variance', 'threshold': 0.1}                                                       \n",
      ">>> ESTIMATOR :{'strategy': 'LightGBM', 'boosting_type': 'gbdt', 'class_weight': 'balanced', 'colsample_bytree': 0.75, 'importance_type': 'split', 'learning_rate': 0.025, 'max_depth': 3, 'min_child_samples': 60, 'min_child_weight': 0.0, 'min_split_gain': 0.2, 'n_estimators': 50, 'num_leaves': 36, 'random_state': 69, 'reg_alpha': 0.0, 'reg_lambda': 0.1, 'subsample': 1.0, 'subsample_for_bin': 20000, 'n_jobs': -1, 'objective': None, 'silent': True, 'subsample_freq': 0, 'nthread': -1, 'seed': 0}\n",
      "  0%|                                                                            | 0/5 [00:00<?, ?trial/s, best loss=?]"
     ]
    },
    {
     "name": "stderr",
     "output_type": "stream",
     "text": [
      "C:\\Users\\serge\\Anaconda3\\envs\\tfnew\\lib\\site-packages\\mlbox\\encoding\\categorical_encoder.py:462: FutureWarning: SparseDataFrame is deprecated and will be removed in a future version.\n",
      "Use a regular DataFrame whose columns are SparseArrays instead.\n",
      "\n",
      "See http://pandas.pydata.org/pandas-docs/stable/user_guide/sparse.html#migrating for more.\n",
      "\n",
      "  )[list(self.__Lnum)+sorted(missing_var+sub_var)])\n",
      "\n",
      "C:\\Users\\serge\\Anaconda3\\envs\\tfnew\\lib\\site-packages\\pandas\\core\\frame.py:3471: FutureWarning: SparseSeries is deprecated and will be removed in a future version.\n",
      "Use a Series with sparse values instead.\n",
      "\n",
      "    >>> series = pd.Series(pd.SparseArray(...))\n",
      "\n",
      "See http://pandas.pydata.org/pandas-docs/stable/user_guide/sparse.html#migrating for more.\n",
      "\n",
      "  return klass(values, index=self.index, name=items, fastpath=True)\n",
      "\n",
      "C:\\Users\\serge\\Anaconda3\\envs\\tfnew\\lib\\site-packages\\pandas\\core\\sparse\\frame.py:745: FutureWarning: SparseDataFrame is deprecated and will be removed in a future version.\n",
      "Use a regular DataFrame whose columns are SparseArrays instead.\n",
      "\n",
      "See http://pandas.pydata.org/pandas-docs/stable/user_guide/sparse.html#migrating for more.\n",
      "\n",
      "  default_fill_value=self._default_fill_value,\n",
      "\n"
     ]
    },
    {
     "name": "stdout",
     "output_type": "stream",
     "text": [
      "MEAN SCORE : neg_log_loss = -0.6631320555275615                                                                        \n",
      "VARIANCE : 0.0021947899936144988 (fold 1 = -0.665326845521176, fold 2 = -0.660937265533947)                            \n",
      "CPU time: 16.461137533187866 seconds                                                                                   \n",
      "##################################################### testing hyper-parameters... #####################################################\n",
      ">>> NA ENCODER :{'numerical_strategy': 0, 'categorical_strategy': '<NULL>'}                                            \n",
      ">>> CA ENCODER :{'strategy': 'entity_embedding'}                                                                       \n",
      ">>> FEATURE SELECTOR :{'strategy': 'rf_feature_importance', 'threshold': 0.4}                                          \n",
      ">>> ESTIMATOR :{'strategy': 'LightGBM', 'boosting_type': 'dart', 'class_weight': None, 'colsample_bytree': 0.95, 'importance_type': 'gain', 'learning_rate': 0.025, 'max_depth': 4, 'min_child_samples': 25, 'min_child_weight': 0.001, 'min_split_gain': 0.001, 'n_estimators': 800, 'num_leaves': 75, 'random_state': 69, 'reg_alpha': 0.0, 'reg_lambda': 0.0, 'subsample': 0.9, 'subsample_for_bin': 15000, 'n_jobs': -1, 'objective': None, 'silent': True, 'subsample_freq': 0, 'nthread': -1, 'seed': 0}\n",
      " 20%|██████████                                        | 1/5 [00:17<01:06, 16.66s/trial, best loss: 0.6631320555275615]"
     ]
    },
    {
     "name": "stderr",
     "output_type": "stream",
     "text": [
      "C:\\Users\\serge\\Anaconda3\\envs\\tfnew\\lib\\site-packages\\sklearn\\pipeline.py:315: UserWarning: Persisting input arguments took 1.49s to run.\n",
      "If this happens often in your code, it can cause performance problems \n",
      "(results will be correct in all cases). \n",
      "The reason for this is probably some large input arguments for a wrapped\n",
      " function (e.g. large strings).\n",
      "THIS IS A JOBLIB ISSUE. If you can, kindly provide the joblib's team with an\n",
      " example so that they can fix the problem.\n",
      "  **fit_params_steps[name])\n",
      "\n",
      "C:\\Users\\serge\\Anaconda3\\envs\\tfnew\\lib\\site-packages\\sklearn\\pipeline.py:315: UserWarning: Persisting input arguments took 1.90s to run.\n",
      "If this happens often in your code, it can cause performance problems \n",
      "(results will be correct in all cases). \n",
      "The reason for this is probably some large input arguments for a wrapped\n",
      " function (e.g. large strings).\n",
      "THIS IS A JOBLIB ISSUE. If you can, kindly provide the joblib's team with an\n",
      " example so that they can fix the problem.\n",
      "  **fit_params_steps[name])\n",
      "\n",
      "C:\\Users\\serge\\Anaconda3\\envs\\tfnew\\lib\\site-packages\\sklearn\\pipeline.py:315: UserWarning: Persisting input arguments took 1.95s to run.\n",
      "If this happens often in your code, it can cause performance problems \n",
      "(results will be correct in all cases). \n",
      "The reason for this is probably some large input arguments for a wrapped\n",
      " function (e.g. large strings).\n",
      "THIS IS A JOBLIB ISSUE. If you can, kindly provide the joblib's team with an\n",
      " example so that they can fix the problem.\n",
      "  **fit_params_steps[name])\n",
      "\n",
      "C:\\Users\\serge\\Anaconda3\\envs\\tfnew\\lib\\site-packages\\sklearn\\pipeline.py:315: UserWarning: Persisting input arguments took 1.96s to run.\n",
      "If this happens often in your code, it can cause performance problems \n",
      "(results will be correct in all cases). \n",
      "The reason for this is probably some large input arguments for a wrapped\n",
      " function (e.g. large strings).\n",
      "THIS IS A JOBLIB ISSUE. If you can, kindly provide the joblib's team with an\n",
      " example so that they can fix the problem.\n",
      "  **fit_params_steps[name])\n",
      "\n"
     ]
    },
    {
     "name": "stdout",
     "output_type": "stream",
     "text": [
      "MEAN SCORE : neg_log_loss = -0.3842501620912133                                                                        \n",
      "VARIANCE : 0.0007145822771107424 (fold 1 = -0.3835355798141026, fold 2 = -0.38496474436832406)                         \n",
      "CPU time: 241.23604106903076 seconds                                                                                   \n",
      "##################################################### testing hyper-parameters... #####################################################\n",
      ">>> NA ENCODER :{'numerical_strategy': 'mean', 'categorical_strategy': '<NULL>'}                                       \n",
      ">>> CA ENCODER :{'strategy': 'entity_embedding'}                                                                       \n",
      ">>> FEATURE SELECTOR :{'strategy': 'rf_feature_importance', 'threshold': 0.2}                                          \n",
      ">>> ESTIMATOR :{'strategy': 'LightGBM', 'boosting_type': 'gbdt', 'class_weight': 'balanced', 'colsample_bytree': 0.95, 'importance_type': 'split', 'learning_rate': 0.25, 'max_depth': 12, 'min_child_samples': 60, 'min_child_weight': 0.001, 'min_split_gain': 0.1, 'n_estimators': 100, 'num_leaves': 2, 'random_state': 69, 'reg_alpha': 0.001, 'reg_lambda': 0.001, 'subsample': 1.0, 'subsample_for_bin': 21000, 'n_jobs': -1, 'objective': None, 'silent': True, 'subsample_freq': 0, 'nthread': -1, 'seed': 0}\n",
      " 40%|████████████████████                              | 2/5 [04:18<04:12, 84.14s/trial, best loss: 0.3842501620912133]"
     ]
    },
    {
     "name": "stderr",
     "output_type": "stream",
     "text": [
      "C:\\Users\\serge\\Anaconda3\\envs\\tfnew\\lib\\site-packages\\sklearn\\pipeline.py:315: UserWarning: Persisting input arguments took 1.08s to run.\n",
      "If this happens often in your code, it can cause performance problems \n",
      "(results will be correct in all cases). \n",
      "The reason for this is probably some large input arguments for a wrapped\n",
      " function (e.g. large strings).\n",
      "THIS IS A JOBLIB ISSUE. If you can, kindly provide the joblib's team with an\n",
      " example so that they can fix the problem.\n",
      "  **fit_params_steps[name])\n",
      "\n",
      "C:\\Users\\serge\\Anaconda3\\envs\\tfnew\\lib\\site-packages\\sklearn\\pipeline.py:315: UserWarning: Persisting input arguments took 1.40s to run.\n",
      "If this happens often in your code, it can cause performance problems \n",
      "(results will be correct in all cases). \n",
      "The reason for this is probably some large input arguments for a wrapped\n",
      " function (e.g. large strings).\n",
      "THIS IS A JOBLIB ISSUE. If you can, kindly provide the joblib's team with an\n",
      " example so that they can fix the problem.\n",
      "  **fit_params_steps[name])\n",
      "\n"
     ]
    },
    {
     "name": "stdout",
     "output_type": "stream",
     "text": [
      "MEAN SCORE : neg_log_loss = -0.6547377929580593                                                                        \n",
      "VARIANCE : 0.0035356906965919865 (fold 1 = -0.6582734836546513, fold 2 = -0.6512021022614674)                          \n",
      "CPU time: 18.365607500076294 seconds                                                                                   \n",
      "##################################################### testing hyper-parameters... #####################################################\n",
      ">>> NA ENCODER :{'numerical_strategy': 'most_frequent', 'categorical_strategy': 'most_frequent'}                       \n",
      ">>> CA ENCODER :{'strategy': 'random_projection'}                                                                      \n",
      ">>> FEATURE SELECTOR :{'strategy': 'variance', 'threshold': 0.5}                                                       \n",
      ">>> ESTIMATOR :{'strategy': 'LightGBM', 'boosting_type': 'dart', 'class_weight': 'balanced', 'colsample_bytree': 0.85, 'importance_type': 'split', 'learning_rate': 0.025, 'max_depth': 24, 'min_child_samples': 15, 'min_child_weight': 0.001, 'min_split_gain': 0.001, 'n_estimators': 1600, 'num_leaves': 25, 'random_state': 69, 'reg_alpha': 0.0001, 'reg_lambda': 0.0, 'subsample': 0.5, 'subsample_for_bin': 19000, 'n_jobs': -1, 'objective': None, 'silent': True, 'subsample_freq': 0, 'nthread': -1, 'seed': 0}\n",
      "MEAN SCORE : neg_log_loss = -0.5918717962591462                                                                        \n",
      "VARIANCE : 0.0017381811018462034 (fold 1 = -0.5901336151573, fold 2 = -0.5936099773609924)                             \n",
      "CPU time: 190.84548020362854 seconds                                                                                   \n",
      "##################################################### testing hyper-parameters... #####################################################\n",
      ">>> NA ENCODER :{'numerical_strategy': 'mean', 'categorical_strategy': 'most_frequent'}                                \n",
      ">>> CA ENCODER :{'strategy': 'label_encoding'}                                                                         \n",
      ">>> FEATURE SELECTOR :{'strategy': 'l1', 'threshold': 0.4}                                                             \n",
      ">>> ESTIMATOR :{'strategy': 'LightGBM', 'boosting_type': 'gbdt', 'class_weight': None, 'colsample_bytree': 0.85, 'importance_type': 'gain', 'learning_rate': 0.15, 'max_depth': 1, 'min_child_samples': 10, 'min_child_weight': 0.1, 'min_split_gain': 0, 'n_estimators': 20, 'num_leaves': 25, 'random_state': 69, 'reg_alpha': 0.0, 'reg_lambda': 0.0, 'subsample': 0.95, 'subsample_for_bin': 20000, 'n_jobs': -1, 'objective': None, 'silent': True, 'subsample_freq': 0, 'nthread': -1, 'seed': 0}\n",
      "MEAN SCORE : neg_log_loss = -0.38041023898243975                                                                       \n",
      "VARIANCE : 0.00029624902353053706 (fold 1 = -0.3801139899589092, fold 2 = -0.3807064880059703)                         \n",
      "CPU time: 9.760463237762451 seconds                                                                                    \n",
      "100%|█████████████████████████████████████████████████| 5/5 [07:58<00:00, 95.65s/trial, best loss: 0.38041023898243975]\n",
      "\n",
      "\n",
      "~~~~~~~~~~~~~~~~~~~~~~~~~~~~~~~~~~~~~~~~~~~~~~~~~~~~~~~~~~~~~~~~~~~~~~~~~~~~~~~~~~~~~~~~~~~~~~~~~~~~~~~~~~~~~~~~~~~~~~~~~~~~~~~~~~~~~~~~~\n",
      "~~~~~~~~~~~~~~~~~~~~~~~~~~~~~~~~~~~~~~~~~~~~~~~~~~~~~~~~~ BEST HYPER-PARAMETERS ~~~~~~~~~~~~~~~~~~~~~~~~~~~~~~~~~~~~~~~~~~~~~~~~~~~~~~~~~\n",
      "~~~~~~~~~~~~~~~~~~~~~~~~~~~~~~~~~~~~~~~~~~~~~~~~~~~~~~~~~~~~~~~~~~~~~~~~~~~~~~~~~~~~~~~~~~~~~~~~~~~~~~~~~~~~~~~~~~~~~~~~~~~~~~~~~~~~~~~~~\n",
      "\n",
      "{'ce__strategy': 'label_encoding', 'est__boosting_type': 'gbdt', 'est__class_weight': None, 'est__colsample_bytree': 0.85, 'est__importance_type': 'gain', 'est__learning_rate': 0.15, 'est__max_depth': 1, 'est__min_child_samples': 10, 'est__min_child_weight': 0.1, 'est__min_split_gain': 0, 'est__n_estimators': 20, 'est__num_leaves': 25, 'est__random_state': 69, 'est__reg_alpha': 0.0, 'est__reg_lambda': 0.0, 'est__strategy': 'LightGBM', 'est__subsample': 0.95, 'est__subsample_for_bin': 20000, 'fs__strategy': 'l1', 'fs__threshold': 0.4, 'ne__categorical_strategy': 'most_frequent', 'ne__numerical_strategy': 'mean'}\n"
     ]
    }
   ],
   "source": [
    "space = {\n",
    "\n",
    "        'ne__numerical_strategy' : {\"space\" : [0, 'mean', 'median', 'most_frequent']},\n",
    "        'ne__categorical_strategy' : {\"space\" : ['<NULL>', 'most_frequent']},\n",
    "\n",
    "        'ce__strategy' : {\"space\" : [\"label_encoding\", \"dummification\", \"random_projection\", \"entity_embedding\"]},\n",
    "\n",
    "        'fs__strategy' : {\"space\" : [\"variance\", \"rf_feature_importance\", 'l1']},\n",
    "        'fs__threshold': {\"search\" : \"choice\", \"space\" : [0.1, 0.2, 0.3, 0.4, 0.5]},\n",
    "\n",
    "        'est__strategy' : {\"space\" : [\"LightGBM\"]},\n",
    "\n",
    "        'est__boosting_type' : { \"space\" : ['gbdt', 'goss', 'dart']},\n",
    "        'est__class_weight' : { \"search\" : \"choice\", \"space\" : [None, 'balanced']},\n",
    "        'est__importance_type' : { \"space\" : ['split', 'gain']},\n",
    "        'est__min_split_gain' : { \"search\" : \"choice\", \"space\" : [0, 0.001, 0.01, 0.1, 0.2]},\n",
    "        'est__max_depth' : { \"search\" : \"choice\", \"space\" : [1, 2, 3, 4, 6, 12, 24, 48, -1]},\n",
    "        'est__n_estimators' : { \"search\" : \"choice\", \"space\" : [20, 50, 100, 200, 400, 800, 1600]},\n",
    "        'est__num_leaves' : { \"search\" : \"choice\", \"space\" : [2, 25, 31, 36, 75, 100]},\n",
    "        'est__min_child_weight' : { \"search\" : \"choice\", \"space\" : [0.0, 0.0001, 0.001, 0.1]},\n",
    "        'est__random_state' : { \"space\" : [69]},\n",
    "        'est__reg_alpha' : { \"search\" : \"choice\", \"space\" : [0.0, 0.0001, 0.001, 0.1, 0.25]},\n",
    "        'est__reg_lambda' : { \"search\" : \"choice\", \"space\" : [0.0, 0.0001, 0.001, 0.1, 0.25]},\n",
    "        'est__min_child_samples' : {\"search\" : \"choice\", \"space\" : [5, 10, 15, 20, 25, 40, 60]},\n",
    "        'est__subsample' : {\"search\" : \"choice\", \"space\" : [0.5, 0.8, 0.85, 0.9, 0.95, 1.0]},\n",
    "        'est__subsample_for_bin' : {\"search\" : \"choice\", \"space\" : [15000, 19000, 20000, 21000, 25000]},\n",
    "        'est__learning_rate' : {\"search\" : \"choice\", \"space\" : [0.0001, 0.001, 0.010, 0.025, 0.050, 0.075, 0.100, 0.150, 0.250]},\n",
    "        'est__colsample_bytree' : { \"search\" : \"choice\", \"space\" : [0.75, 0.8, 0.85, 0.95, 1.0]}\n",
    "\n",
    "        }\n",
    "\n",
    "best = opt.optimise(space, data, max_evals = 5)"
   ]
  },
  {
   "cell_type": "code",
   "execution_count": 40,
   "metadata": {},
   "outputs": [
    {
     "name": "stdout",
     "output_type": "stream",
     "text": [
      "\n",
      "fitting the pipeline ...\n"
     ]
    },
    {
     "name": "stderr",
     "output_type": "stream",
     "text": [
      "C:\\Users\\serge\\Anaconda3\\envs\\tfnew\\lib\\site-packages\\sklearn\\pipeline.py:315: UserWarning: Persisting input arguments took 2.37s to run.\n",
      "If this happens often in your code, it can cause performance problems \n",
      "(results will be correct in all cases). \n",
      "The reason for this is probably some large input arguments for a wrapped\n",
      " function (e.g. large strings).\n",
      "THIS IS A JOBLIB ISSUE. If you can, kindly provide the joblib's team with an\n",
      " example so that they can fix the problem.\n",
      "  **fit_params_steps[name])\n",
      "C:\\Users\\serge\\Anaconda3\\envs\\tfnew\\lib\\site-packages\\sklearn\\pipeline.py:315: UserWarning: Persisting input arguments took 2.32s to run.\n",
      "If this happens often in your code, it can cause performance problems \n",
      "(results will be correct in all cases). \n",
      "The reason for this is probably some large input arguments for a wrapped\n",
      " function (e.g. large strings).\n",
      "THIS IS A JOBLIB ISSUE. If you can, kindly provide the joblib's team with an\n",
      " example so that they can fix the problem.\n",
      "  **fit_params_steps[name])\n",
      "C:\\Users\\serge\\Anaconda3\\envs\\tfnew\\lib\\site-packages\\sklearn\\linear_model\\_sag.py:330: ConvergenceWarning: The max_iter was reached which means the coef_ did not converge\n",
      "  \"the coef_ did not converge\", ConvergenceWarning)\n"
     ]
    },
    {
     "name": "stdout",
     "output_type": "stream",
     "text": [
      "CPU time: 18.728700876235962 seconds\n"
     ]
    },
    {
     "name": "stderr",
     "output_type": "stream",
     "text": [
      "C:\\Users\\serge\\Anaconda3\\envs\\tfnew\\lib\\site-packages\\mlbox\\prediction\\predictor.py:121: UserWarning: WARNING : city_development_index is probably a leak ! Please check and delete it...\n",
      "  + \" is probably a leak ! \"\n",
      "C:\\Users\\serge\\Anaconda3\\envs\\tfnew\\lib\\site-packages\\mlbox\\prediction\\predictor.py:392: UserWarning: Unable to get feature importances !\n",
      "  warnings.warn(\"Unable to get feature importances !\")\n"
     ]
    },
    {
     "name": "stdout",
     "output_type": "stream",
     "text": [
      "\n",
      "predicting ...\n",
      "CPU time: 0.6271548271179199 seconds\n",
      "\n",
      "> Overview on predictions : \n",
      "\n",
      "        0.0       1.0  target_predicted\n",
      "0  0.712310  0.287690                 0\n",
      "1  0.877586  0.122414                 0\n",
      "2  0.851214  0.148786                 0\n",
      "3  0.880878  0.119122                 0\n",
      "4  0.893192  0.106808                 0\n",
      "5  0.893192  0.106808                 0\n",
      "6  0.783511  0.216489                 0\n",
      "7  0.879133  0.120867                 0\n",
      "8  0.893192  0.106808                 0\n",
      "9  0.876287  0.123713                 0\n",
      "\n",
      "dumping predictions into directory : save ...\n"
     ]
    },
    {
     "data": {
      "text/plain": [
       "<mlbox.prediction.predictor.Predictor at 0x1d87673cc88>"
      ]
     },
     "execution_count": 40,
     "metadata": {},
     "output_type": "execute_result"
    }
   ],
   "source": [
    "Predictor().fit_predict(best, data)"
   ]
  },
  {
   "cell_type": "code",
   "execution_count": 41,
   "metadata": {},
   "outputs": [],
   "source": [
    "df = pd.read_csv('save/target_predictions.csv')"
   ]
  },
  {
   "cell_type": "code",
   "execution_count": 42,
   "metadata": {},
   "outputs": [],
   "source": [
    "sub = pd.read_csv('sample_submission_sxfcbdx.csv')"
   ]
  },
  {
   "cell_type": "code",
   "execution_count": 43,
   "metadata": {},
   "outputs": [
    {
     "data": {
      "text/html": [
       "<div>\n",
       "<style scoped>\n",
       "    .dataframe tbody tr th:only-of-type {\n",
       "        vertical-align: middle;\n",
       "    }\n",
       "\n",
       "    .dataframe tbody tr th {\n",
       "        vertical-align: top;\n",
       "    }\n",
       "\n",
       "    .dataframe thead th {\n",
       "        text-align: right;\n",
       "    }\n",
       "</style>\n",
       "<table border=\"1\" class=\"dataframe\">\n",
       "  <thead>\n",
       "    <tr style=\"text-align: right;\">\n",
       "      <th></th>\n",
       "      <th>enrollee_id</th>\n",
       "      <th>target</th>\n",
       "    </tr>\n",
       "  </thead>\n",
       "  <tbody>\n",
       "    <tr>\n",
       "      <th>0</th>\n",
       "      <td>16548</td>\n",
       "      <td>0</td>\n",
       "    </tr>\n",
       "    <tr>\n",
       "      <th>1</th>\n",
       "      <td>12036</td>\n",
       "      <td>0</td>\n",
       "    </tr>\n",
       "    <tr>\n",
       "      <th>2</th>\n",
       "      <td>11061</td>\n",
       "      <td>0</td>\n",
       "    </tr>\n",
       "    <tr>\n",
       "      <th>3</th>\n",
       "      <td>5032</td>\n",
       "      <td>0</td>\n",
       "    </tr>\n",
       "    <tr>\n",
       "      <th>4</th>\n",
       "      <td>17599</td>\n",
       "      <td>0</td>\n",
       "    </tr>\n",
       "  </tbody>\n",
       "</table>\n",
       "</div>"
      ],
      "text/plain": [
       "   enrollee_id  target\n",
       "0        16548       0\n",
       "1        12036       0\n",
       "2        11061       0\n",
       "3         5032       0\n",
       "4        17599       0"
      ]
     },
     "execution_count": 43,
     "metadata": {},
     "output_type": "execute_result"
    }
   ],
   "source": [
    "sub.head()"
   ]
  },
  {
   "cell_type": "code",
   "execution_count": 44,
   "metadata": {},
   "outputs": [],
   "source": [
    "indices = sub.index.values"
   ]
  },
  {
   "cell_type": "code",
   "execution_count": 45,
   "metadata": {},
   "outputs": [],
   "source": [
    "for i in range(len(indices)):\n",
    "    sub.loc[i, 'target'] = df.loc[i, '1.0']"
   ]
  },
  {
   "cell_type": "code",
   "execution_count": 46,
   "metadata": {},
   "outputs": [],
   "source": [
    "sos = sub.to_csv('1.0.csv', index = False)"
   ]
  },
  {
   "cell_type": "code",
   "execution_count": null,
   "metadata": {},
   "outputs": [],
   "source": []
  },
  {
   "cell_type": "code",
   "execution_count": null,
   "metadata": {},
   "outputs": [],
   "source": []
  }
 ],
 "metadata": {
  "kernelspec": {
   "display_name": "tfnew",
   "language": "python",
   "name": "tfnew"
  },
  "language_info": {
   "codemirror_mode": {
    "name": "ipython",
    "version": 3
   },
   "file_extension": ".py",
   "mimetype": "text/x-python",
   "name": "python",
   "nbconvert_exporter": "python",
   "pygments_lexer": "ipython3",
   "version": "3.7.6"
  }
 },
 "nbformat": 4,
 "nbformat_minor": 2
}
